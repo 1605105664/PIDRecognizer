{
 "cells": [
  {
   "cell_type": "code",
   "execution_count": 33,
   "id": "6aef414b",
   "metadata": {},
   "outputs": [],
   "source": [
    "import pandas as pd\n",
    "import numpy as np\n",
    "import matplotlib.pyplot as plt\n",
    "import math\n",
    "df=pd.read_csv('data.csv')\n",
    "import pickle"
   ]
  },
  {
   "cell_type": "code",
   "execution_count": 34,
   "id": "a3eb14f4",
   "metadata": {},
   "outputs": [],
   "source": [
    "data=df.to_numpy()"
   ]
  },
  {
   "cell_type": "code",
   "execution_count": 97,
   "id": "cf50676d",
   "metadata": {},
   "outputs": [
    {
     "data": {
      "text/plain": [
       "1297"
      ]
     },
     "execution_count": 97,
     "metadata": {},
     "output_type": "execute_result"
    }
   ],
   "source": [
    "data1=data[:,0]\n",
    "x=len(data1)\n",
    "x"
   ]
  },
  {
   "cell_type": "code",
   "execution_count": 98,
   "id": "d5e354c1",
   "metadata": {},
   "outputs": [
    {
     "data": {
      "text/plain": [
       "[0,\n",
       " 75,\n",
       " 135,\n",
       " 247,\n",
       " 494,\n",
       " 546,\n",
       " 608,\n",
       " 756,\n",
       " 993,\n",
       " 1122,\n",
       " 1139,\n",
       " 1166,\n",
       " 1213,\n",
       " 1247,\n",
       " 1275,\n",
       " 1297]"
      ]
     },
     "execution_count": 98,
     "metadata": {},
     "output_type": "execute_result"
    }
   ],
   "source": [
    "seperations=[0]\n",
    "for i in range(len(data1)-1):\n",
    "    if (data1[i+1]-data1[i])>=500:\n",
    "        seperations.append(i)\n",
    "    else:\n",
    "        pass\n",
    "seperations.append(x)\n",
    "seperations"
   ]
  },
  {
   "cell_type": "code",
   "execution_count": 99,
   "id": "25939d28",
   "metadata": {},
   "outputs": [],
   "source": [
    "segments=[]\n",
    "for i in range(len(seperations)-1):\n",
    "    segments.append(data[(seperations[i]+3):(seperations[i+1]-3)])"
   ]
  },
  {
   "cell_type": "code",
   "execution_count": 100,
   "id": "a3679802",
   "metadata": {},
   "outputs": [],
   "source": [
    "def dx(i): return dat.x[i]-dat.x[i-1]\n",
    "def dy(i): return dat.y[i]-dat.y[i-1]\n",
    "def dt(i): return dat.time[i]-dat.time[i-1]\n",
    "def theta(i):\n",
    "    feature=0\n",
    "    feature=math.atan2(dx(i+1)*dy(i)-dx(i)*dy(i+1),dx(i+1)*dx(i)+dy(i+1)*dy(i))\n",
    "    return feature\n",
    "def sigma(start, end, fun): return sum([fun(i) for i in range(start, end)])\n",
    "def rf1(d): return (d.x[2]-d.x[0])/math.sqrt((d.y[2]-d.y[0])**2+(d.x[2]-d.x[0])**2)\n",
    "def rf2(d): return (d.y[2]-d.y[0])/math.sqrt((d.y[2]-d.y[0])**2+(d.x[2]-d.x[0])**2)\n",
    "def rf3(d): return math.sqrt((max(d.y)-min(d.y))**2+(max(d.x)-min(d.x))**2)\n",
    "def rf4(d): return math.atan2(max(d.y)-min(d.y), max(d.x)-min(d.x))\n",
    "def rf5(d): return math.sqrt((d.x[len(d)-1]-d.x[0])**2+(d.y[len(d)-1]-d.y[0])**2)\n",
    "def rf6(d): return (d.x[len(d)-1]-d.x[0])/rf5(d)\n",
    "def rf7(d): return (d.y[len(d)-1]-d.y[0])/rf5(d)\n",
    "def rf8(d): return sigma(1, len(d), lambda i: math.sqrt(dx(i)**2+dy(i)**2))\n",
    "def rf9(d): return sigma(1, len(d)-1, theta)\n",
    "def rf10(d): return sigma(1, len(d)-1, lambda i: abs(theta(i)))\n",
    "def rf11(d): return sigma(1, len(d)-1, lambda i: theta(i)**2)\n",
    "def rf12(d): return max([(dx(i)**2+dy(i)**2)/dt(i)**2 if dt(i) > 0 else 0 for i in range(1, len(d))])\n",
    "def rf13(d): return d.time[len(d)-1]-d.time[0]"
   ]
  },
  {
   "cell_type": "code",
   "execution_count": 101,
   "id": "e4286d92",
   "metadata": {},
   "outputs": [
    {
     "data": {
      "text/plain": [
       "15"
      ]
     },
     "execution_count": 101,
     "metadata": {},
     "output_type": "execute_result"
    }
   ],
   "source": [
    "len(segments)"
   ]
  },
  {
   "cell_type": "code",
   "execution_count": 102,
   "id": "adbc67b2",
   "metadata": {},
   "outputs": [],
   "source": [
    "df_list=[]\n",
    "for i in segments:\n",
    "    df_list.append(pd.DataFrame(i,columns=['time','x','y']))"
   ]
  },
  {
   "cell_type": "code",
   "execution_count": 103,
   "id": "8cdc3784",
   "metadata": {},
   "outputs": [],
   "source": [
    "stroke_features=[]\n",
    "for i in range(len(df_list)):\n",
    "    temp=[]\n",
    "    dat=df_list[i]\n",
    "    f1=rf1(df_list[i])\n",
    "    f2=rf2(df_list[i])\n",
    "    f3=rf3(df_list[i])\n",
    "    f4=rf4(df_list[i])\n",
    "    f5=rf5(df_list[i])\n",
    "    f6=rf6(df_list[i])\n",
    "    f7=rf7(df_list[i])\n",
    "    f8=rf8(df_list[i])\n",
    "    f9=rf9(df_list[i])\n",
    "    f10=rf10(df_list[i])\n",
    "    f11=rf11(df_list[i])\n",
    "    f12=rf12(df_list[i])\n",
    "    f13=rf13(df_list[i])\n",
    "    temp+=[f1,f2,f3,f4,f5,f6,f7,f8,f9,f10,f11,f12,f13]\n",
    "    stroke_features.append(temp)"
   ]
  },
  {
   "cell_type": "code",
   "execution_count": 104,
   "id": "c61e902d",
   "metadata": {},
   "outputs": [],
   "source": [
    "df=pd.DataFrame(stroke_features,columns=['rf1','rf2','rf3','rf4','rf5','rf6','rf7','rf8','rf9','rf10','rf11','rf12','rf13'])"
   ]
  },
  {
   "cell_type": "code",
   "execution_count": 105,
   "id": "b626ae2b",
   "metadata": {},
   "outputs": [
    {
     "data": {
      "text/html": [
       "<div>\n",
       "<style scoped>\n",
       "    .dataframe tbody tr th:only-of-type {\n",
       "        vertical-align: middle;\n",
       "    }\n",
       "\n",
       "    .dataframe tbody tr th {\n",
       "        vertical-align: top;\n",
       "    }\n",
       "\n",
       "    .dataframe thead th {\n",
       "        text-align: right;\n",
       "    }\n",
       "</style>\n",
       "<table border=\"1\" class=\"dataframe\">\n",
       "  <thead>\n",
       "    <tr style=\"text-align: right;\">\n",
       "      <th></th>\n",
       "      <th>rf1</th>\n",
       "      <th>rf2</th>\n",
       "      <th>rf3</th>\n",
       "      <th>rf4</th>\n",
       "      <th>rf5</th>\n",
       "      <th>rf6</th>\n",
       "      <th>rf7</th>\n",
       "      <th>rf8</th>\n",
       "      <th>rf9</th>\n",
       "      <th>rf10</th>\n",
       "      <th>rf11</th>\n",
       "      <th>rf12</th>\n",
       "      <th>rf13</th>\n",
       "    </tr>\n",
       "  </thead>\n",
       "  <tbody>\n",
       "    <tr>\n",
       "      <th>0</th>\n",
       "      <td>1.000000</td>\n",
       "      <td>0.000000</td>\n",
       "      <td>631.202820</td>\n",
       "      <td>0.025351</td>\n",
       "      <td>631.087355</td>\n",
       "      <td>0.999862</td>\n",
       "      <td>-0.016638</td>\n",
       "      <td>632.086711</td>\n",
       "      <td>-2.775558e-17</td>\n",
       "      <td>2.580622</td>\n",
       "      <td>0.316353</td>\n",
       "      <td>2.070312</td>\n",
       "      <td>1135.0</td>\n",
       "    </tr>\n",
       "    <tr>\n",
       "      <th>1</th>\n",
       "      <td>0.000000</td>\n",
       "      <td>1.000000</td>\n",
       "      <td>135.592220</td>\n",
       "      <td>1.533913</td>\n",
       "      <td>135.592220</td>\n",
       "      <td>-0.036875</td>\n",
       "      <td>0.999320</td>\n",
       "      <td>135.932236</td>\n",
       "      <td>-5.551115e-17</td>\n",
       "      <td>1.297243</td>\n",
       "      <td>0.200503</td>\n",
       "      <td>0.169550</td>\n",
       "      <td>884.0</td>\n",
       "    </tr>\n",
       "    <tr>\n",
       "      <th>2</th>\n",
       "      <td>-0.970143</td>\n",
       "      <td>0.242536</td>\n",
       "      <td>114.865138</td>\n",
       "      <td>0.859337</td>\n",
       "      <td>3.041381</td>\n",
       "      <td>0.986394</td>\n",
       "      <td>-0.164399</td>\n",
       "      <td>259.028611</td>\n",
       "      <td>5.819538e+00</td>\n",
       "      <td>18.717652</td>\n",
       "      <td>8.043264</td>\n",
       "      <td>0.254883</td>\n",
       "      <td>1750.0</td>\n",
       "    </tr>\n",
       "    <tr>\n",
       "      <th>3</th>\n",
       "      <td>0.000000</td>\n",
       "      <td>1.000000</td>\n",
       "      <td>186.706320</td>\n",
       "      <td>0.677250</td>\n",
       "      <td>4.031129</td>\n",
       "      <td>0.496139</td>\n",
       "      <td>-0.868243</td>\n",
       "      <td>596.754967</td>\n",
       "      <td>-1.570796e+00</td>\n",
       "      <td>48.788471</td>\n",
       "      <td>45.477716</td>\n",
       "      <td>0.305664</td>\n",
       "      <td>4507.0</td>\n",
       "    </tr>\n",
       "    <tr>\n",
       "      <th>4</th>\n",
       "      <td>1.000000</td>\n",
       "      <td>0.000000</td>\n",
       "      <td>233.004828</td>\n",
       "      <td>0.006438</td>\n",
       "      <td>233.000536</td>\n",
       "      <td>0.999998</td>\n",
       "      <td>-0.002146</td>\n",
       "      <td>233.138235</td>\n",
       "      <td>4.163336e-17</td>\n",
       "      <td>0.496580</td>\n",
       "      <td>0.051668</td>\n",
       "      <td>0.346021</td>\n",
       "      <td>750.0</td>\n",
       "    </tr>\n",
       "    <tr>\n",
       "      <th>5</th>\n",
       "      <td>0.099504</td>\n",
       "      <td>0.995037</td>\n",
       "      <td>138.676782</td>\n",
       "      <td>1.520298</td>\n",
       "      <td>138.573085</td>\n",
       "      <td>-0.032474</td>\n",
       "      <td>0.999473</td>\n",
       "      <td>139.855964</td>\n",
       "      <td>-9.065989e-02</td>\n",
       "      <td>4.292378</td>\n",
       "      <td>1.483746</td>\n",
       "      <td>0.125433</td>\n",
       "      <td>962.0</td>\n",
       "    </tr>\n",
       "    <tr>\n",
       "      <th>6</th>\n",
       "      <td>1.000000</td>\n",
       "      <td>0.000000</td>\n",
       "      <td>199.323857</td>\n",
       "      <td>0.290015</td>\n",
       "      <td>8.631338</td>\n",
       "      <td>-0.984784</td>\n",
       "      <td>-0.173785</td>\n",
       "      <td>414.796735</td>\n",
       "      <td>3.141593e+00</td>\n",
       "      <td>26.074120</td>\n",
       "      <td>13.013633</td>\n",
       "      <td>0.249135</td>\n",
       "      <td>2403.0</td>\n",
       "    </tr>\n",
       "    <tr>\n",
       "      <th>7</th>\n",
       "      <td>0.164399</td>\n",
       "      <td>0.986394</td>\n",
       "      <td>252.325682</td>\n",
       "      <td>0.629233</td>\n",
       "      <td>6.964194</td>\n",
       "      <td>0.358979</td>\n",
       "      <td>-0.933346</td>\n",
       "      <td>660.461201</td>\n",
       "      <td>4.712389e+00</td>\n",
       "      <td>33.437270</td>\n",
       "      <td>24.400229</td>\n",
       "      <td>0.774414</td>\n",
       "      <td>3939.0</td>\n",
       "    </tr>\n",
       "    <tr>\n",
       "      <th>8</th>\n",
       "      <td>-0.983870</td>\n",
       "      <td>-0.178885</td>\n",
       "      <td>156.634128</td>\n",
       "      <td>0.796684</td>\n",
       "      <td>4.031129</td>\n",
       "      <td>0.992278</td>\n",
       "      <td>-0.124035</td>\n",
       "      <td>359.522463</td>\n",
       "      <td>6.480581e+00</td>\n",
       "      <td>19.305929</td>\n",
       "      <td>6.772051</td>\n",
       "      <td>0.225779</td>\n",
       "      <td>2037.0</td>\n",
       "    </tr>\n",
       "    <tr>\n",
       "      <th>9</th>\n",
       "      <td>0.989949</td>\n",
       "      <td>-0.141421</td>\n",
       "      <td>31.780497</td>\n",
       "      <td>0.222082</td>\n",
       "      <td>31.780497</td>\n",
       "      <td>0.975441</td>\n",
       "      <td>-0.220261</td>\n",
       "      <td>32.092527</td>\n",
       "      <td>4.636476e-01</td>\n",
       "      <td>1.517091</td>\n",
       "      <td>0.355943</td>\n",
       "      <td>0.200195</td>\n",
       "      <td>167.0</td>\n",
       "    </tr>\n",
       "    <tr>\n",
       "      <th>10</th>\n",
       "      <td>0.989949</td>\n",
       "      <td>0.141421</td>\n",
       "      <td>72.043390</td>\n",
       "      <td>0.034708</td>\n",
       "      <td>72.001736</td>\n",
       "      <td>0.999976</td>\n",
       "      <td>0.006944</td>\n",
       "      <td>72.367504</td>\n",
       "      <td>1.106572e-01</td>\n",
       "      <td>0.906490</td>\n",
       "      <td>0.162538</td>\n",
       "      <td>0.224913</td>\n",
       "      <td>333.0</td>\n",
       "    </tr>\n",
       "    <tr>\n",
       "      <th>11</th>\n",
       "      <td>0.000000</td>\n",
       "      <td>1.000000</td>\n",
       "      <td>45.568630</td>\n",
       "      <td>1.515906</td>\n",
       "      <td>45.568630</td>\n",
       "      <td>0.054862</td>\n",
       "      <td>0.998494</td>\n",
       "      <td>46.817207</td>\n",
       "      <td>0.000000e+00</td>\n",
       "      <td>6.926686</td>\n",
       "      <td>8.023344</td>\n",
       "      <td>0.118164</td>\n",
       "      <td>764.0</td>\n",
       "    </tr>\n",
       "    <tr>\n",
       "      <th>12</th>\n",
       "      <td>-0.987763</td>\n",
       "      <td>-0.155963</td>\n",
       "      <td>54.728877</td>\n",
       "      <td>0.091487</td>\n",
       "      <td>54.728877</td>\n",
       "      <td>-0.995818</td>\n",
       "      <td>-0.091359</td>\n",
       "      <td>55.344503</td>\n",
       "      <td>-6.327488e-01</td>\n",
       "      <td>3.973440</td>\n",
       "      <td>1.861006</td>\n",
       "      <td>0.149654</td>\n",
       "      <td>453.0</td>\n",
       "    </tr>\n",
       "    <tr>\n",
       "      <th>13</th>\n",
       "      <td>-1.000000</td>\n",
       "      <td>0.000000</td>\n",
       "      <td>45.675486</td>\n",
       "      <td>0.087687</td>\n",
       "      <td>45.675486</td>\n",
       "      <td>-0.996158</td>\n",
       "      <td>-0.087574</td>\n",
       "      <td>46.171567</td>\n",
       "      <td>-5.551115e-17</td>\n",
       "      <td>2.975310</td>\n",
       "      <td>0.997604</td>\n",
       "      <td>0.097656</td>\n",
       "      <td>350.0</td>\n",
       "    </tr>\n",
       "    <tr>\n",
       "      <th>14</th>\n",
       "      <td>0.000000</td>\n",
       "      <td>1.000000</td>\n",
       "      <td>18.500000</td>\n",
       "      <td>1.570796</td>\n",
       "      <td>18.500000</td>\n",
       "      <td>0.000000</td>\n",
       "      <td>1.000000</td>\n",
       "      <td>18.500000</td>\n",
       "      <td>0.000000e+00</td>\n",
       "      <td>0.000000</td>\n",
       "      <td>0.000000</td>\n",
       "      <td>0.015625</td>\n",
       "      <td>251.0</td>\n",
       "    </tr>\n",
       "  </tbody>\n",
       "</table>\n",
       "</div>"
      ],
      "text/plain": [
       "         rf1       rf2         rf3       rf4         rf5       rf6       rf7  \\\n",
       "0   1.000000  0.000000  631.202820  0.025351  631.087355  0.999862 -0.016638   \n",
       "1   0.000000  1.000000  135.592220  1.533913  135.592220 -0.036875  0.999320   \n",
       "2  -0.970143  0.242536  114.865138  0.859337    3.041381  0.986394 -0.164399   \n",
       "3   0.000000  1.000000  186.706320  0.677250    4.031129  0.496139 -0.868243   \n",
       "4   1.000000  0.000000  233.004828  0.006438  233.000536  0.999998 -0.002146   \n",
       "5   0.099504  0.995037  138.676782  1.520298  138.573085 -0.032474  0.999473   \n",
       "6   1.000000  0.000000  199.323857  0.290015    8.631338 -0.984784 -0.173785   \n",
       "7   0.164399  0.986394  252.325682  0.629233    6.964194  0.358979 -0.933346   \n",
       "8  -0.983870 -0.178885  156.634128  0.796684    4.031129  0.992278 -0.124035   \n",
       "9   0.989949 -0.141421   31.780497  0.222082   31.780497  0.975441 -0.220261   \n",
       "10  0.989949  0.141421   72.043390  0.034708   72.001736  0.999976  0.006944   \n",
       "11  0.000000  1.000000   45.568630  1.515906   45.568630  0.054862  0.998494   \n",
       "12 -0.987763 -0.155963   54.728877  0.091487   54.728877 -0.995818 -0.091359   \n",
       "13 -1.000000  0.000000   45.675486  0.087687   45.675486 -0.996158 -0.087574   \n",
       "14  0.000000  1.000000   18.500000  1.570796   18.500000  0.000000  1.000000   \n",
       "\n",
       "           rf8           rf9       rf10       rf11      rf12    rf13  \n",
       "0   632.086711 -2.775558e-17   2.580622   0.316353  2.070312  1135.0  \n",
       "1   135.932236 -5.551115e-17   1.297243   0.200503  0.169550   884.0  \n",
       "2   259.028611  5.819538e+00  18.717652   8.043264  0.254883  1750.0  \n",
       "3   596.754967 -1.570796e+00  48.788471  45.477716  0.305664  4507.0  \n",
       "4   233.138235  4.163336e-17   0.496580   0.051668  0.346021   750.0  \n",
       "5   139.855964 -9.065989e-02   4.292378   1.483746  0.125433   962.0  \n",
       "6   414.796735  3.141593e+00  26.074120  13.013633  0.249135  2403.0  \n",
       "7   660.461201  4.712389e+00  33.437270  24.400229  0.774414  3939.0  \n",
       "8   359.522463  6.480581e+00  19.305929   6.772051  0.225779  2037.0  \n",
       "9    32.092527  4.636476e-01   1.517091   0.355943  0.200195   167.0  \n",
       "10   72.367504  1.106572e-01   0.906490   0.162538  0.224913   333.0  \n",
       "11   46.817207  0.000000e+00   6.926686   8.023344  0.118164   764.0  \n",
       "12   55.344503 -6.327488e-01   3.973440   1.861006  0.149654   453.0  \n",
       "13   46.171567 -5.551115e-17   2.975310   0.997604  0.097656   350.0  \n",
       "14   18.500000  0.000000e+00   0.000000   0.000000  0.015625   251.0  "
      ]
     },
     "execution_count": 105,
     "metadata": {},
     "output_type": "execute_result"
    }
   ],
   "source": [
    "df"
   ]
  },
  {
   "cell_type": "code",
   "execution_count": 106,
   "id": "793b1952",
   "metadata": {},
   "outputs": [
    {
     "data": {
      "text/plain": [
       "list"
      ]
     },
     "execution_count": 106,
     "metadata": {},
     "output_type": "execute_result"
    },
    {
     "data": {
      "image/png": "[encoded data removed]",
      "text/plain": [
       "<Figure size 640x480 with 1 Axes>"
      ]
     },
     "metadata": {},
     "output_type": "display_data"
    }
   ],
   "source": [
    "a=segments[6]\n",
    "plt.scatter(a[:,1],a[:,2])\n",
    "type(segments)"
   ]
  },
  {
   "cell_type": "markdown",
   "id": "9439bab9",
   "metadata": {},
   "source": [
    "# Single Link Euclidean Distance between strokes"
   ]
  },
  {
   "cell_type": "code",
   "execution_count": 107,
   "id": "4551e3ab",
   "metadata": {},
   "outputs": [],
   "source": [
    "import math\n",
    "def distance(u,v):\n",
    "    minimum=[]\n",
    "    min_d=[]\n",
    "    u=np.array(u)\n",
    "    v=np.array(v)\n",
    "    u=np.delete(u,0,1)\n",
    "    v=np.delete(v,0,1)\n",
    "    for i in range(len(u)):\n",
    "        for j in range(len(v)):\n",
    "            d=math.dist(u[i],v[j])\n",
    "            minimum.append(d)\n",
    "        minimum.sort()\n",
    "        minum=minimum[0]\n",
    "        min_d.append(minum)\n",
    "    min_d.sort()\n",
    "    return min_d[0]\n",
    "composite=[]\n",
    "for i in range(len(segments)):\n",
    "    un=segments[i]\n",
    "    distarr=[]\n",
    "    dist_index=[]\n",
    "    for j in range(len(segments)):\n",
    "        vn=segments[j]\n",
    "        sldist=distance(un,vn)\n",
    "        distarr.append(sldist)\n",
    "        dist_index.append(j)\n",
    "    matrix=np.array([dist_index,distarr])\n",
    "    composite.append(matrix)"
   ]
  },
  {
   "cell_type": "code",
   "execution_count": 108,
   "id": "94715a9e",
   "metadata": {},
   "outputs": [
    {
     "data": {
      "text/plain": [
       "array([[[  0.        ,   1.        ,   2.        ,   3.        ,\n",
       "           4.        ,   5.        ,   6.        ,   7.        ,\n",
       "           8.        ,   9.        ,  10.        ,  11.        ,\n",
       "          12.        ,  13.        ,  14.        ],\n",
       "        [  0.        ,   8.84590301, 142.50350873,   8.51469318,\n",
       "         154.65849476,  78.05767099, 131.70516315, 228.50054705,\n",
       "         233.73328817, 290.5068846 , 284.30661266, 213.53746744,\n",
       "         287.47391186, 286.63042407, 232.50053763]],\n",
       "\n",
       "       [[  0.        ,   1.        ,   2.        ,   3.        ,\n",
       "           4.        ,   5.        ,   6.        ,   7.        ,\n",
       "           8.        ,   9.        ,  10.        ,  11.        ,\n",
       "          12.        ,  13.        ,  14.        ],\n",
       "        [  8.84590301,   0.        ,   2.        , 510.16296416,\n",
       "         657.        , 579.38242983, 513.01973646, 247.59291185,\n",
       "         312.16021527, 468.51600826, 542.37187427, 604.01179624,\n",
       "         226.62799915, 159.57835066,  91.92388155]],\n",
       "\n",
       "       [[  0.        ,   1.        ,   2.        ,   3.        ,\n",
       "           4.        ,   5.        ,   6.        ,   7.        ,\n",
       "           8.        ,   9.        ,  10.        ,  11.        ,\n",
       "          12.        ,  13.        ,  14.        ],\n",
       "        [142.50350873,   2.        ,   0.        , 477.19440483,\n",
       "         632.09690713, 537.12963984, 470.91665929, 189.27493231,\n",
       "         249.82493871, 410.75357576, 487.39024406, 556.23061764,\n",
       "         151.23822268,  70.4716255 ,   3.        ]],\n",
       "\n",
       "       [[  0.        ,   1.        ,   2.        ,   3.        ,\n",
       "           4.        ,   5.        ,   6.        ,   7.        ,\n",
       "           8.        ,   9.        ,  10.        ,  11.        ,\n",
       "          12.        ,  13.        ,  14.        ],\n",
       "        [  8.51469318, 510.16296416, 477.19440483,   0.        ,\n",
       "           6.18465844,   3.53553391,  78.50636917, 201.77710475,\n",
       "         239.33710536, 249.22529968, 232.81322986, 139.95088424,\n",
       "         374.51301713, 474.86524404, 521.65050561]],\n",
       "\n",
       "       [[  0.        ,   1.        ,   2.        ,   3.        ,\n",
       "           4.        ,   5.        ,   6.        ,   7.        ,\n",
       "           8.        ,   9.        ,  10.        ,  11.        ,\n",
       "          12.        ,  13.        ,  14.        ],\n",
       "        [154.65849476, 657.        , 632.09690713,   6.18465844,\n",
       "           0.        ,  77.15082631, 140.        , 332.08620869,\n",
       "         381.04363267, 355.86022537, 296.83539209, 199.98124912,\n",
       "         525.0278564 , 629.23207166, 677.28963524]],\n",
       "\n",
       "       [[  0.        ,   1.        ,   2.        ,   3.        ,\n",
       "           4.        ,   5.        ,   6.        ,   7.        ,\n",
       "           8.        ,   9.        ,  10.        ,  11.        ,\n",
       "          12.        ,  13.        ,  14.        ],\n",
       "        [ 78.05767099, 579.38242983, 537.12963984,   3.53553391,\n",
       "          77.15082631,   0.        ,   2.        , 181.96977771,\n",
       "         236.53540961, 191.98762981, 142.00352108,  49.87233702,\n",
       "         392.22060119, 508.12424662, 572.07079981]],\n",
       "\n",
       "       [[  0.        ,   1.        ,   2.        ,   3.        ,\n",
       "           4.        ,   5.        ,   6.        ,   7.        ,\n",
       "           8.        ,   9.        ,  10.        ,  11.        ,\n",
       "          12.        ,  13.        ,  14.        ],\n",
       "        [131.70516315, 513.01973646, 470.91665929,  78.50636917,\n",
       "         140.        ,   2.        ,   0.        , 136.40472866,\n",
       "         185.92807749, 156.50079872,  99.42082277,   2.91547595,\n",
       "         335.19136325, 447.16216298, 507.42708836]],\n",
       "\n",
       "       [[  0.        ,   1.        ,   2.        ,   3.        ,\n",
       "           4.        ,   5.        ,   6.        ,   7.        ,\n",
       "           8.        ,   9.        ,  10.        ,  11.        ,\n",
       "          12.        ,  13.        ,  14.        ],\n",
       "        [228.50054705, 247.59291185, 189.27493231, 201.77710475,\n",
       "         332.08620869, 181.96977771, 136.40472866,   0.        ,\n",
       "           3.04138127,  23.08679276, 103.51086899, 176.00639193,\n",
       "           9.01387819, 133.00093985, 212.05895407]],\n",
       "\n",
       "       [[  0.        ,   1.        ,   2.        ,   3.        ,\n",
       "           4.        ,   5.        ,   6.        ,   7.        ,\n",
       "           8.        ,   9.        ,  10.        ,  11.        ,\n",
       "          12.        ,  13.        ,  14.        ],\n",
       "        [233.73328817, 312.16021527, 249.82493871, 239.33710536,\n",
       "         381.04363267, 236.53540961, 185.92807749,   3.04138127,\n",
       "           0.        ,  55.00227268, 135.51475934, 221.92622648,\n",
       "          60.        , 184.11477399, 265.10988288]],\n",
       "\n",
       "       [[  0.        ,   1.        ,   2.        ,   3.        ,\n",
       "           4.        ,   5.        ,   6.        ,   7.        ,\n",
       "           8.        ,   9.        ,  10.        ,  11.        ,\n",
       "          12.        ,  13.        ,  14.        ],\n",
       "        [290.5068846 , 468.51600826, 410.75357576, 249.22529968,\n",
       "         355.86022537, 191.98762981, 156.50079872,  23.08679276,\n",
       "          55.00227268,   0.        ,  51.5800349 , 145.5764404 ,\n",
       "         224.68032847, 348.84452124, 429.10429968]],\n",
       "\n",
       "       [[  0.        ,   1.        ,   2.        ,   3.        ,\n",
       "           4.        ,   5.        ,   6.        ,   7.        ,\n",
       "           8.        ,   9.        ,  10.        ,  11.        ,\n",
       "          12.        ,  13.        ,  14.        ],\n",
       "        [284.30661266, 542.37187427, 487.39024406, 232.81322986,\n",
       "         296.83539209, 142.00352108,  99.42082277, 103.51086899,\n",
       "         135.51475934,  51.5800349 ,   0.        ,  52.11765536,\n",
       "         305.0036885 , 429.07458559, 508.27158095]],\n",
       "\n",
       "       [[  0.        ,   1.        ,   2.        ,   3.        ,\n",
       "           4.        ,   5.        ,   6.        ,   7.        ,\n",
       "           8.        ,   9.        ,  10.        ,  11.        ,\n",
       "          12.        ,  13.        ,  14.        ],\n",
       "        [213.53746744, 604.01179624, 556.23061764, 139.95088424,\n",
       "         199.98124912,  49.87233702,   2.91547595, 176.00639193,\n",
       "         221.92622648, 145.5764404 ,  52.11765536,   0.        ,\n",
       "         388.29788823, 510.89822861, 586.        ]],\n",
       "\n",
       "       [[  0.        ,   1.        ,   2.        ,   3.        ,\n",
       "           4.        ,   5.        ,   6.        ,   7.        ,\n",
       "           8.        ,   9.        ,  10.        ,  11.        ,\n",
       "          12.        ,  13.        ,  14.        ],\n",
       "        [287.47391186, 226.62799915, 151.23822268, 374.51301713,\n",
       "         525.0278564 , 392.22060119, 335.19136325,   9.01387819,\n",
       "          60.        , 224.68032847, 305.0036885 , 388.29788823,\n",
       "           0.        ,  70.44501402, 155.2884413 ]],\n",
       "\n",
       "       [[  0.        ,   1.        ,   2.        ,   3.        ,\n",
       "           4.        ,   5.        ,   6.        ,   7.        ,\n",
       "           8.        ,   9.        ,  10.        ,  11.        ,\n",
       "          12.        ,  13.        ,  14.        ],\n",
       "        [286.63042407, 159.57835066,  70.4716255 , 474.86524404,\n",
       "         629.23207166, 508.12424662, 447.16216298, 133.00093985,\n",
       "         184.11477399, 348.84452124, 429.07458559, 510.89822861,\n",
       "          70.44501402,   0.        ,  54.11330705]],\n",
       "\n",
       "       [[  0.        ,   1.        ,   2.        ,   3.        ,\n",
       "           4.        ,   5.        ,   6.        ,   7.        ,\n",
       "           8.        ,   9.        ,  10.        ,  11.        ,\n",
       "          12.        ,  13.        ,  14.        ],\n",
       "        [232.50053763,  91.92388155,   3.        , 521.65050561,\n",
       "         677.28963524, 572.07079981, 507.42708836, 212.05895407,\n",
       "         265.10988288, 429.10429968, 508.27158095, 586.        ,\n",
       "         155.2884413 ,  54.11330705,   0.        ]]])"
      ]
     },
     "execution_count": 108,
     "metadata": {},
     "output_type": "execute_result"
    }
   ],
   "source": [
    "c=np.array(composite)\n",
    "c"
   ]
  },
  {
   "cell_type": "markdown",
   "id": "a9ce96c3",
   "metadata": {},
   "source": [
    "# Distinguishing between line and non-line segments"
   ]
  },
  {
   "cell_type": "code",
   "execution_count": 109,
   "id": "beafae3b",
   "metadata": {},
   "outputs": [
    {
     "data": {
      "text/plain": [
       "([0, 1, 4, 5, 9, 10, 11, 12, 13, 14], [2, 3, 6, 7, 8])"
      ]
     },
     "execution_count": 109,
     "metadata": {},
     "output_type": "execute_result"
    }
   ],
   "source": [
    "line_arr=[]\n",
    "obj_arr=[]\n",
    "for i in range(len(stroke_features)):\n",
    "    r=stroke_features[i]\n",
    "    end_to_end=r[4]\n",
    "    length=r[7]\n",
    "    if end_to_end>=0.90*length:\n",
    "        line_arr.append(i)\n",
    "    else:\n",
    "        obj_arr.append(i)\n",
    "        pass\n",
    "line_arr,obj_arr"
   ]
  },
  {
   "cell_type": "code",
   "execution_count": 122,
   "id": "6e2921ae",
   "metadata": {},
   "outputs": [
    {
     "data": {
      "text/plain": [
       "([9, 10, 11, 12, 13, 14], [0, 1, 4, 5])"
      ]
     },
     "execution_count": 122,
     "metadata": {},
     "output_type": "execute_result"
    }
   ],
   "source": [
    "dashed=[]\n",
    "lines=[]\n",
    "for i in line_arr:\n",
    "    r=stroke_features[i]\n",
    "    length=r[7]\n",
    "    if length<=80:\n",
    "        dashed.append(i)\n",
    "    else:\n",
    "        lines.append(i)\n",
    "dashed,lines"
   ]
  },
  {
   "cell_type": "code",
   "execution_count": 126,
   "id": "f3f4c1e6",
   "metadata": {},
   "outputs": [
    {
     "data": {
      "text/plain": [
       "{2: 'Circle', 3: 'Valve ', 6: 'Semi (', 7: 'Square', 8: 'Circle'}"
      ]
     },
     "execution_count": 126,
     "metadata": {},
     "output_type": "execute_result"
    }
   ],
   "source": [
    "objects=[]\n",
    "for i in obj_arr:\n",
    "    objects.append(stroke_features[i])\n",
    "\n",
    "df_obj=pd.DataFrame(objects,columns=['rf1','rf2','rf3','rf4','rf5','rf6','rf7','rf8','rf9','rf10','rf11','rf12','rf13'])\n",
    "df_obj\n",
    "model=pickle.load(open('RFC.sav','rb'))\n",
    "y_pred=model.predict(df_obj)\n",
    "y_pred\n",
    "obj_dict={}\n",
    "for i in range(len(obj_arr)):\n",
    "    obj_dict[obj_arr[i]]=y_pred[i]\n",
    "obj_dict"
   ]
  },
  {
   "cell_type": "markdown",
   "id": "a669e49d",
   "metadata": {},
   "source": [
    "# Finding Circle in Square"
   ]
  },
  {
   "cell_type": "code",
   "execution_count": 116,
   "id": "45852809",
   "metadata": {},
   "outputs": [],
   "source": [
    "minma=[]\n",
    "for i in obj_arr:\n",
    "    segs=np.array(segments[i])\n",
    "    min_vals=np.amin(segs,0)\n",
    "    max_vals=np.amax(segs,0)\n",
    "    minma.extend([[min_vals[1],max_vals[1],min_vals[2],max_vals[2]]])\n",
    "\n",
    "circle_in_square=[]\n",
    "for i in range(0,len(minma)):\n",
    "    minmax2=minma[i]\n",
    "    minmax1=minma\n",
    "    for j in range(0,len(minmax1)):\n",
    "        if j==i:\n",
    "            pass\n",
    "        else:\n",
    "            rfj=minmax1[j]\n",
    "            if abs(minmax2[0]-rfj[0])<100:\n",
    "                if abs(minmax2[1]-rfj[1])<100:\n",
    "                    if abs(minmax2[2]-rfj[2])<100:\n",
    "                        if abs(minmax2[3]-rfj[3])<100:\n",
    "                            if i not in circle_in_square:\n",
    "                                circle_in_square.append(i)\n",
    "                                circle_in_square.append(j)"
   ]
  },
  {
   "cell_type": "code",
   "execution_count": 118,
   "id": "6c876e60",
   "metadata": {},
   "outputs": [
    {
     "data": {
      "text/plain": [
       "[7, 8]"
      ]
     },
     "execution_count": 118,
     "metadata": {},
     "output_type": "execute_result"
    }
   ],
   "source": [
    "cont_objs=[]\n",
    "for i in circle_in_square:\n",
    "    cont_objs.append(obj_arr[i])\n",
    "cont_objs"
   ]
  },
  {
   "cell_type": "markdown",
   "id": "49f3f6a1",
   "metadata": {},
   "source": [
    "# Determining Association through Euclidean Distance"
   ]
  },
  {
   "cell_type": "code",
   "execution_count": 200,
   "id": "cedd2e25",
   "metadata": {},
   "outputs": [],
   "source": [
    "sorted_neighbours=[]\n",
    "for i in range(len(c)):\n",
    "    a=c[i]\n",
    "    xcalibre=np.argsort(a[1])\n",
    "    xsorted=np.sort(a[1])\n",
    "    xsorted=xsorted[xsorted<70.45]\n",
    "    xsorted=xsorted[1:]\n",
    "    xcalibre=xcalibre[1:len(xsorted)+1]\n",
    "    sorted_neighbours.append(xcalibre)"
   ]
  },
  {
   "cell_type": "code",
   "execution_count": 201,
   "id": "716b859b",
   "metadata": {},
   "outputs": [
    {
     "data": {
      "text/plain": [
       "(array([ 3.        , 54.11330705]), array([ 2, 13], dtype=int64))"
      ]
     },
     "execution_count": 201,
     "metadata": {},
     "output_type": "execute_result"
    }
   ],
   "source": [
    "xsorted,xcalibre"
   ]
  },
  {
   "cell_type": "code",
   "execution_count": 202,
   "id": "ac7bda68",
   "metadata": {},
   "outputs": [
    {
     "data": {
      "text/plain": [
       "[array([3, 1], dtype=int64),\n",
       " array([2, 0], dtype=int64),\n",
       " array([ 1, 14], dtype=int64),\n",
       " array([5, 4, 0], dtype=int64),\n",
       " array([3], dtype=int64),\n",
       " array([ 6,  3, 11], dtype=int64),\n",
       " array([ 5, 11], dtype=int64),\n",
       " array([ 8, 12,  9], dtype=int64),\n",
       " array([ 7,  9, 12], dtype=int64),\n",
       " array([ 7, 10,  8], dtype=int64),\n",
       " array([ 9, 11], dtype=int64),\n",
       " array([ 6,  5, 10], dtype=int64),\n",
       " array([ 7,  8, 13], dtype=int64),\n",
       " array([14, 12], dtype=int64),\n",
       " array([ 2, 13], dtype=int64)]"
      ]
     },
     "execution_count": 202,
     "metadata": {},
     "output_type": "execute_result"
    }
   ],
   "source": [
    "sorted_neighbours"
   ]
  },
  {
   "cell_type": "markdown",
   "id": "ad7dc387",
   "metadata": {},
   "source": [
    "# Graph of connections"
   ]
  },
  {
   "cell_type": "code",
   "execution_count": 203,
   "id": "c5aafc9b",
   "metadata": {},
   "outputs": [
    {
     "data": {
      "text/plain": [
       "([0, 1, 4, 5], [9, 10, 11, 12, 13, 14], [2, 3, 6, 7, 8])"
      ]
     },
     "execution_count": 203,
     "metadata": {},
     "output_type": "execute_result"
    }
   ],
   "source": [
    "lines,dashed,obj_arr"
   ]
  },
  {
   "cell_type": "code",
   "execution_count": 204,
   "id": "90ebf62b",
   "metadata": {},
   "outputs": [
    {
     "data": {
      "text/plain": [
       "({0: 'line', 1: 'line', 4: 'line', 5: 'line'},\n",
       " {9: 'dashed',\n",
       "  10: 'dashed',\n",
       "  11: 'dashed',\n",
       "  12: 'dashed',\n",
       "  13: 'dashed',\n",
       "  14: 'dashed'})"
      ]
     },
     "execution_count": 204,
     "metadata": {},
     "output_type": "execute_result"
    }
   ],
   "source": [
    "lines_dict={}\n",
    "for i in lines:\n",
    "    lines_dict[i]='line'\n",
    "dashed_dict={}\n",
    "for i in dashed:\n",
    "    dashed_dict[i]='dashed'\n",
    "lines_dict,dashed_dict"
   ]
  },
  {
   "cell_type": "code",
   "execution_count": 205,
   "id": "5aae244c",
   "metadata": {},
   "outputs": [
    {
     "data": {
      "text/plain": [
       "{0: 'line',\n",
       " 1: 'line',\n",
       " 4: 'line',\n",
       " 5: 'line',\n",
       " 9: 'dashed',\n",
       " 10: 'dashed',\n",
       " 11: 'dashed',\n",
       " 12: 'dashed',\n",
       " 13: 'dashed',\n",
       " 14: 'dashed',\n",
       " 2: 'Circle',\n",
       " 3: 'Valve ',\n",
       " 6: 'Semi (',\n",
       " 7: 'Square',\n",
       " 8: 'Circle'}"
      ]
     },
     "execution_count": 205,
     "metadata": {},
     "output_type": "execute_result"
    }
   ],
   "source": [
    "lines_dict.update(dashed_dict)\n",
    "lines_dict.update(obj_dict)\n",
    "lines_dict"
   ]
  },
  {
   "cell_type": "code",
   "execution_count": 206,
   "id": "8a60cef5",
   "metadata": {},
   "outputs": [],
   "source": [
    "from collections import OrderedDict\n",
    "stroke_dict=OrderedDict(sorted(lines_dict.items()))\n",
    "align=list(stroke_dict.keys())"
   ]
  },
  {
   "cell_type": "code",
   "execution_count": 207,
   "id": "3352f79e",
   "metadata": {},
   "outputs": [],
   "source": [
    "alignment_dict={}\n",
    "for i in range(len(sorted_neighbours)):\n",
    "    temp=[]\n",
    "    xt=sorted_neighbours[i]\n",
    "    for j in xt:\n",
    "        temp.append(stroke_dict[j])\n",
    "    alignment_dict[i]=temp"
   ]
  },
  {
   "cell_type": "code",
   "execution_count": 208,
   "id": "46a57035",
   "metadata": {},
   "outputs": [
    {
     "data": {
      "text/plain": [
       "{0: ['Valve ', 'line'],\n",
       " 1: ['Circle', 'line'],\n",
       " 2: ['line', 'dashed'],\n",
       " 3: ['line', 'line', 'line'],\n",
       " 4: ['Valve '],\n",
       " 5: ['Semi (', 'Valve ', 'dashed'],\n",
       " 6: ['line', 'dashed'],\n",
       " 7: ['Circle', 'dashed', 'dashed'],\n",
       " 8: ['Square', 'dashed', 'dashed'],\n",
       " 9: ['Square', 'dashed', 'Circle'],\n",
       " 10: ['dashed', 'dashed'],\n",
       " 11: ['Semi (', 'line', 'dashed'],\n",
       " 12: ['Square', 'Circle', 'dashed'],\n",
       " 13: ['dashed', 'dashed'],\n",
       " 14: ['Circle', 'dashed']}"
      ]
     },
     "execution_count": 208,
     "metadata": {},
     "output_type": "execute_result"
    }
   ],
   "source": [
    "alignment_dict"
   ]
  },
  {
   "cell_type": "code",
   "execution_count": 212,
   "id": "120e9251",
   "metadata": {},
   "outputs": [],
   "source": [
    "for i in range(len(alignment_dict)):\n",
    "    values_adjacent=alignment_dict[i]\n",
    "    obj=lines_dict[i]\n",
    "    if obj=='dashed':\n",
    "        if 'line' in values_adjacent:\n",
    "            values_adjacent.remove('line')\n",
    "            alignment_dict[i]=values_adjacent\n",
    "    if obj=='line':\n",
    "        if 'dashed' in values_adjacent:\n",
    "            values_adjacent.remove('dashed')\n",
    "            alignment_dict[i]=values_adjacent"
   ]
  },
  {
   "cell_type": "code",
   "execution_count": 213,
   "id": "34e88305",
   "metadata": {},
   "outputs": [
    {
     "data": {
      "text/plain": [
       "{0: ['Valve ', 'line'],\n",
       " 1: ['Circle', 'line'],\n",
       " 2: ['line', 'dashed'],\n",
       " 3: ['line', 'line', 'line'],\n",
       " 4: ['Valve '],\n",
       " 5: ['Semi (', 'Valve '],\n",
       " 6: ['line', 'dashed'],\n",
       " 7: ['Circle', 'dashed', 'dashed'],\n",
       " 8: ['Square', 'dashed', 'dashed'],\n",
       " 9: ['Square', 'dashed', 'Circle'],\n",
       " 10: ['dashed', 'dashed'],\n",
       " 11: ['Semi (', 'dashed'],\n",
       " 12: ['Square', 'Circle', 'dashed'],\n",
       " 13: ['dashed', 'dashed'],\n",
       " 14: ['Circle', 'dashed']}"
      ]
     },
     "execution_count": 213,
     "metadata": {},
     "output_type": "execute_result"
    }
   ],
   "source": [
    "alignment_dict"
   ]
  },
  {
   "cell_type": "code",
   "execution_count": null,
   "id": "1641910d",
   "metadata": {},
   "outputs": [],
   "source": []
  }
 ],
 "metadata": {
  "kernelspec": {
   "display_name": "Python 3 (ipykernel)",
   "language": "python",
   "name": "python3"
  },
  "language_info": {
   "codemirror_mode": {
    "name": "ipython",
    "version": 3
   },
   "file_extension": ".py",
   "mimetype": "text/x-python",
   "name": "python",
   "nbconvert_exporter": "python",
   "pygments_lexer": "ipython3",
   "version": "3.9.13"
  }
 },
 "nbformat": 4,
 "nbformat_minor": 5
}
