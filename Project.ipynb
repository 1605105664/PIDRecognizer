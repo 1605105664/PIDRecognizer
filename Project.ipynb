{
 "cells": [
  {
   "cell_type": "code",
   "execution_count": 1,
   "source": [
    "import pandas as pd\r\n",
    "import numpy as np\r\n",
    "import matplotlib.pyplot as plt\r\n",
    "import math\r\n",
    "df=pd.read_csv('data.csv')\r\n",
    "import pickle"
   ],
   "outputs": [],
   "metadata": {}
  },
  {
   "cell_type": "code",
   "execution_count": 2,
   "source": [
    "data=df.to_numpy()"
   ],
   "outputs": [],
   "metadata": {}
  },
  {
   "cell_type": "code",
   "execution_count": 3,
   "source": [
    "data1=data[:,0]\r\n",
    "x=len(data1)\r\n",
    "x"
   ],
   "outputs": [
    {
     "output_type": "execute_result",
     "data": {
      "text/plain": [
       "1297"
      ]
     },
     "metadata": {},
     "execution_count": 3
    }
   ],
   "metadata": {}
  },
  {
   "cell_type": "code",
   "execution_count": 4,
   "source": [
    "seperations=[0]\r\n",
    "for i in range(len(data1)-1):\r\n",
    "    if (data1[i+1]-data1[i])>=500:\r\n",
    "        seperations.append(i)\r\n",
    "    else:\r\n",
    "        pass\r\n",
    "seperations.append(x)\r\n",
    "seperations"
   ],
   "outputs": [
    {
     "output_type": "execute_result",
     "data": {
      "text/plain": [
       "[0,\n",
       " 75,\n",
       " 135,\n",
       " 247,\n",
       " 494,\n",
       " 546,\n",
       " 608,\n",
       " 756,\n",
       " 993,\n",
       " 1122,\n",
       " 1139,\n",
       " 1166,\n",
       " 1213,\n",
       " 1247,\n",
       " 1275,\n",
       " 1297]"
      ]
     },
     "metadata": {},
     "execution_count": 4
    }
   ],
   "metadata": {}
  },
  {
   "cell_type": "code",
   "execution_count": 5,
   "source": [
    "segments=[]\r\n",
    "for i in range(len(seperations)-1):\r\n",
    "    segments.append(data[(seperations[i]+3):(seperations[i+1]-3)])"
   ],
   "outputs": [],
   "metadata": {}
  },
  {
   "cell_type": "code",
   "execution_count": 6,
   "source": [
    "def dx(i): return dat.x[i]-dat.x[i-1]\r\n",
    "def dy(i): return dat.y[i]-dat.y[i-1]\r\n",
    "def dt(i): return dat.time[i]-dat.time[i-1]\r\n",
    "def theta(i):\r\n",
    "    feature=0\r\n",
    "    feature=math.atan2(dx(i+1)*dy(i)-dx(i)*dy(i+1),dx(i+1)*dx(i)+dy(i+1)*dy(i))\r\n",
    "    return feature\r\n",
    "def sigma(start, end, fun): return sum([fun(i) for i in range(start, end)])\r\n",
    "def rf1(d): return (d.x[2]-d.x[0])/math.sqrt((d.y[2]-d.y[0])**2+(d.x[2]-d.x[0])**2)\r\n",
    "def rf2(d): return (d.y[2]-d.y[0])/math.sqrt((d.y[2]-d.y[0])**2+(d.x[2]-d.x[0])**2)\r\n",
    "def rf3(d): return math.sqrt((max(d.y)-min(d.y))**2+(max(d.x)-min(d.x))**2)\r\n",
    "def rf4(d): return math.atan2(max(d.y)-min(d.y), max(d.x)-min(d.x))\r\n",
    "def rf5(d): return math.sqrt((d.x[len(d)-1]-d.x[0])**2+(d.y[len(d)-1]-d.y[0])**2)\r\n",
    "def rf6(d): return (d.x[len(d)-1]-d.x[0])/rf5(d)\r\n",
    "def rf7(d): return (d.y[len(d)-1]-d.y[0])/rf5(d)\r\n",
    "def rf8(d): return sigma(1, len(d), lambda i: math.sqrt(dx(i)**2+dy(i)**2))\r\n",
    "def rf9(d): return sigma(1, len(d)-1, theta)\r\n",
    "def rf10(d): return sigma(1, len(d)-1, lambda i: abs(theta(i)))\r\n",
    "def rf11(d): return sigma(1, len(d)-1, lambda i: theta(i)**2)\r\n",
    "def rf12(d): return max([(dx(i)**2+dy(i)**2)/dt(i)**2 if dt(i) > 0 else 0 for i in range(1, len(d))])\r\n",
    "def rf13(d): return d.time[len(d)-1]-d.time[0]"
   ],
   "outputs": [],
   "metadata": {}
  },
  {
   "cell_type": "code",
   "execution_count": 7,
   "source": [
    "len(segments)"
   ],
   "outputs": [
    {
     "output_type": "execute_result",
     "data": {
      "text/plain": [
       "15"
      ]
     },
     "metadata": {},
     "execution_count": 7
    }
   ],
   "metadata": {}
  },
  {
   "cell_type": "code",
   "execution_count": 8,
   "source": [
    "df_list=[]\r\n",
    "for i in segments:\r\n",
    "    df_list.append(pd.DataFrame(i,columns=['time','x','y']))"
   ],
   "outputs": [],
   "metadata": {}
  },
  {
   "cell_type": "code",
   "execution_count": 9,
   "source": [
    "stroke_features=[]\r\n",
    "for i in range(len(df_list)):\r\n",
    "    temp=[]\r\n",
    "    dat=df_list[i]\r\n",
    "    f1=rf1(df_list[i])\r\n",
    "    f2=rf2(df_list[i])\r\n",
    "    f3=rf3(df_list[i])\r\n",
    "    f4=rf4(df_list[i])\r\n",
    "    f5=rf5(df_list[i])\r\n",
    "    f6=rf6(df_list[i])\r\n",
    "    f7=rf7(df_list[i])\r\n",
    "    f8=rf8(df_list[i])\r\n",
    "    f9=rf9(df_list[i])\r\n",
    "    f10=rf10(df_list[i])\r\n",
    "    f11=rf11(df_list[i])\r\n",
    "    f12=rf12(df_list[i])\r\n",
    "    f13=rf13(df_list[i])\r\n",
    "    temp+=[f1,f2,f3,f4,f5,f6,f7,f8,f9,f10,f11,f12,f13]\r\n",
    "    stroke_features.append(temp)"
   ],
   "outputs": [],
   "metadata": {}
  },
  {
   "cell_type": "code",
   "execution_count": 10,
   "source": [
    "df=pd.DataFrame(stroke_features,columns=['rf1','rf2','rf3','rf4','rf5','rf6','rf7','rf8','rf9','rf10','rf11','rf12','rf13'])"
   ],
   "outputs": [],
   "metadata": {}
  },
  {
   "cell_type": "code",
   "execution_count": 11,
   "source": [
    "df"
   ],
   "outputs": [
    {
     "output_type": "execute_result",
     "data": {
      "text/html": [
       "<div>\n",
       "<style scoped>\n",
       "    .dataframe tbody tr th:only-of-type {\n",
       "        vertical-align: middle;\n",
       "    }\n",
       "\n",
       "    .dataframe tbody tr th {\n",
       "        vertical-align: top;\n",
       "    }\n",
       "\n",
       "    .dataframe thead th {\n",
       "        text-align: right;\n",
       "    }\n",
       "</style>\n",
       "<table border=\"1\" class=\"dataframe\">\n",
       "  <thead>\n",
       "    <tr style=\"text-align: right;\">\n",
       "      <th></th>\n",
       "      <th>rf1</th>\n",
       "      <th>rf2</th>\n",
       "      <th>rf3</th>\n",
       "      <th>rf4</th>\n",
       "      <th>rf5</th>\n",
       "      <th>rf6</th>\n",
       "      <th>rf7</th>\n",
       "      <th>rf8</th>\n",
       "      <th>rf9</th>\n",
       "      <th>rf10</th>\n",
       "      <th>rf11</th>\n",
       "      <th>rf12</th>\n",
       "      <th>rf13</th>\n",
       "    </tr>\n",
       "  </thead>\n",
       "  <tbody>\n",
       "    <tr>\n",
       "      <th>0</th>\n",
       "      <td>1.000000</td>\n",
       "      <td>0.000000</td>\n",
       "      <td>631.202820</td>\n",
       "      <td>0.025351</td>\n",
       "      <td>631.087355</td>\n",
       "      <td>0.999862</td>\n",
       "      <td>-0.016638</td>\n",
       "      <td>632.086711</td>\n",
       "      <td>-2.775558e-17</td>\n",
       "      <td>2.580622</td>\n",
       "      <td>0.316353</td>\n",
       "      <td>2.070312</td>\n",
       "      <td>1135.0</td>\n",
       "    </tr>\n",
       "    <tr>\n",
       "      <th>1</th>\n",
       "      <td>0.000000</td>\n",
       "      <td>1.000000</td>\n",
       "      <td>135.592220</td>\n",
       "      <td>1.533913</td>\n",
       "      <td>135.592220</td>\n",
       "      <td>-0.036875</td>\n",
       "      <td>0.999320</td>\n",
       "      <td>135.932236</td>\n",
       "      <td>-5.551115e-17</td>\n",
       "      <td>1.297243</td>\n",
       "      <td>0.200503</td>\n",
       "      <td>0.169550</td>\n",
       "      <td>884.0</td>\n",
       "    </tr>\n",
       "    <tr>\n",
       "      <th>2</th>\n",
       "      <td>-0.970143</td>\n",
       "      <td>0.242536</td>\n",
       "      <td>114.865138</td>\n",
       "      <td>0.859337</td>\n",
       "      <td>3.041381</td>\n",
       "      <td>0.986394</td>\n",
       "      <td>-0.164399</td>\n",
       "      <td>259.028611</td>\n",
       "      <td>5.819538e+00</td>\n",
       "      <td>18.717652</td>\n",
       "      <td>8.043264</td>\n",
       "      <td>0.254883</td>\n",
       "      <td>1750.0</td>\n",
       "    </tr>\n",
       "    <tr>\n",
       "      <th>3</th>\n",
       "      <td>0.000000</td>\n",
       "      <td>1.000000</td>\n",
       "      <td>186.706320</td>\n",
       "      <td>0.677250</td>\n",
       "      <td>4.031129</td>\n",
       "      <td>0.496139</td>\n",
       "      <td>-0.868243</td>\n",
       "      <td>596.754967</td>\n",
       "      <td>-1.570796e+00</td>\n",
       "      <td>48.788471</td>\n",
       "      <td>45.477716</td>\n",
       "      <td>0.305664</td>\n",
       "      <td>4507.0</td>\n",
       "    </tr>\n",
       "    <tr>\n",
       "      <th>4</th>\n",
       "      <td>1.000000</td>\n",
       "      <td>0.000000</td>\n",
       "      <td>233.004828</td>\n",
       "      <td>0.006438</td>\n",
       "      <td>233.000536</td>\n",
       "      <td>0.999998</td>\n",
       "      <td>-0.002146</td>\n",
       "      <td>233.138235</td>\n",
       "      <td>4.163336e-17</td>\n",
       "      <td>0.496580</td>\n",
       "      <td>0.051668</td>\n",
       "      <td>0.346021</td>\n",
       "      <td>750.0</td>\n",
       "    </tr>\n",
       "    <tr>\n",
       "      <th>5</th>\n",
       "      <td>0.099504</td>\n",
       "      <td>0.995037</td>\n",
       "      <td>138.676782</td>\n",
       "      <td>1.520298</td>\n",
       "      <td>138.573085</td>\n",
       "      <td>-0.032474</td>\n",
       "      <td>0.999473</td>\n",
       "      <td>139.855964</td>\n",
       "      <td>-9.065989e-02</td>\n",
       "      <td>4.292378</td>\n",
       "      <td>1.483746</td>\n",
       "      <td>0.125433</td>\n",
       "      <td>962.0</td>\n",
       "    </tr>\n",
       "    <tr>\n",
       "      <th>6</th>\n",
       "      <td>1.000000</td>\n",
       "      <td>0.000000</td>\n",
       "      <td>199.323857</td>\n",
       "      <td>0.290015</td>\n",
       "      <td>8.631338</td>\n",
       "      <td>-0.984784</td>\n",
       "      <td>-0.173785</td>\n",
       "      <td>414.796735</td>\n",
       "      <td>3.141593e+00</td>\n",
       "      <td>26.074120</td>\n",
       "      <td>13.013633</td>\n",
       "      <td>0.249135</td>\n",
       "      <td>2403.0</td>\n",
       "    </tr>\n",
       "    <tr>\n",
       "      <th>7</th>\n",
       "      <td>0.164399</td>\n",
       "      <td>0.986394</td>\n",
       "      <td>252.325682</td>\n",
       "      <td>0.629233</td>\n",
       "      <td>6.964194</td>\n",
       "      <td>0.358979</td>\n",
       "      <td>-0.933346</td>\n",
       "      <td>660.461201</td>\n",
       "      <td>4.712389e+00</td>\n",
       "      <td>33.437270</td>\n",
       "      <td>24.400229</td>\n",
       "      <td>0.774414</td>\n",
       "      <td>3939.0</td>\n",
       "    </tr>\n",
       "    <tr>\n",
       "      <th>8</th>\n",
       "      <td>-0.983870</td>\n",
       "      <td>-0.178885</td>\n",
       "      <td>156.634128</td>\n",
       "      <td>0.796684</td>\n",
       "      <td>4.031129</td>\n",
       "      <td>0.992278</td>\n",
       "      <td>-0.124035</td>\n",
       "      <td>359.522463</td>\n",
       "      <td>6.480581e+00</td>\n",
       "      <td>19.305929</td>\n",
       "      <td>6.772051</td>\n",
       "      <td>0.225779</td>\n",
       "      <td>2037.0</td>\n",
       "    </tr>\n",
       "    <tr>\n",
       "      <th>9</th>\n",
       "      <td>0.989949</td>\n",
       "      <td>-0.141421</td>\n",
       "      <td>31.780497</td>\n",
       "      <td>0.222082</td>\n",
       "      <td>31.780497</td>\n",
       "      <td>0.975441</td>\n",
       "      <td>-0.220261</td>\n",
       "      <td>32.092527</td>\n",
       "      <td>4.636476e-01</td>\n",
       "      <td>1.517091</td>\n",
       "      <td>0.355943</td>\n",
       "      <td>0.200195</td>\n",
       "      <td>167.0</td>\n",
       "    </tr>\n",
       "    <tr>\n",
       "      <th>10</th>\n",
       "      <td>0.989949</td>\n",
       "      <td>0.141421</td>\n",
       "      <td>72.043390</td>\n",
       "      <td>0.034708</td>\n",
       "      <td>72.001736</td>\n",
       "      <td>0.999976</td>\n",
       "      <td>0.006944</td>\n",
       "      <td>72.367504</td>\n",
       "      <td>1.106572e-01</td>\n",
       "      <td>0.906490</td>\n",
       "      <td>0.162538</td>\n",
       "      <td>0.224913</td>\n",
       "      <td>333.0</td>\n",
       "    </tr>\n",
       "    <tr>\n",
       "      <th>11</th>\n",
       "      <td>0.000000</td>\n",
       "      <td>1.000000</td>\n",
       "      <td>45.568630</td>\n",
       "      <td>1.515906</td>\n",
       "      <td>45.568630</td>\n",
       "      <td>0.054862</td>\n",
       "      <td>0.998494</td>\n",
       "      <td>46.817207</td>\n",
       "      <td>0.000000e+00</td>\n",
       "      <td>6.926686</td>\n",
       "      <td>8.023344</td>\n",
       "      <td>0.118164</td>\n",
       "      <td>764.0</td>\n",
       "    </tr>\n",
       "    <tr>\n",
       "      <th>12</th>\n",
       "      <td>-0.987763</td>\n",
       "      <td>-0.155963</td>\n",
       "      <td>54.728877</td>\n",
       "      <td>0.091487</td>\n",
       "      <td>54.728877</td>\n",
       "      <td>-0.995818</td>\n",
       "      <td>-0.091359</td>\n",
       "      <td>55.344503</td>\n",
       "      <td>-6.327488e-01</td>\n",
       "      <td>3.973440</td>\n",
       "      <td>1.861006</td>\n",
       "      <td>0.149654</td>\n",
       "      <td>453.0</td>\n",
       "    </tr>\n",
       "    <tr>\n",
       "      <th>13</th>\n",
       "      <td>-1.000000</td>\n",
       "      <td>0.000000</td>\n",
       "      <td>45.675486</td>\n",
       "      <td>0.087687</td>\n",
       "      <td>45.675486</td>\n",
       "      <td>-0.996158</td>\n",
       "      <td>-0.087574</td>\n",
       "      <td>46.171567</td>\n",
       "      <td>-5.551115e-17</td>\n",
       "      <td>2.975310</td>\n",
       "      <td>0.997604</td>\n",
       "      <td>0.097656</td>\n",
       "      <td>350.0</td>\n",
       "    </tr>\n",
       "    <tr>\n",
       "      <th>14</th>\n",
       "      <td>0.000000</td>\n",
       "      <td>1.000000</td>\n",
       "      <td>18.500000</td>\n",
       "      <td>1.570796</td>\n",
       "      <td>18.500000</td>\n",
       "      <td>0.000000</td>\n",
       "      <td>1.000000</td>\n",
       "      <td>18.500000</td>\n",
       "      <td>0.000000e+00</td>\n",
       "      <td>0.000000</td>\n",
       "      <td>0.000000</td>\n",
       "      <td>0.015625</td>\n",
       "      <td>251.0</td>\n",
       "    </tr>\n",
       "  </tbody>\n",
       "</table>\n",
       "</div>"
      ],
      "text/plain": [
       "         rf1       rf2         rf3       rf4         rf5       rf6       rf7  \\\n",
       "0   1.000000  0.000000  631.202820  0.025351  631.087355  0.999862 -0.016638   \n",
       "1   0.000000  1.000000  135.592220  1.533913  135.592220 -0.036875  0.999320   \n",
       "2  -0.970143  0.242536  114.865138  0.859337    3.041381  0.986394 -0.164399   \n",
       "3   0.000000  1.000000  186.706320  0.677250    4.031129  0.496139 -0.868243   \n",
       "4   1.000000  0.000000  233.004828  0.006438  233.000536  0.999998 -0.002146   \n",
       "5   0.099504  0.995037  138.676782  1.520298  138.573085 -0.032474  0.999473   \n",
       "6   1.000000  0.000000  199.323857  0.290015    8.631338 -0.984784 -0.173785   \n",
       "7   0.164399  0.986394  252.325682  0.629233    6.964194  0.358979 -0.933346   \n",
       "8  -0.983870 -0.178885  156.634128  0.796684    4.031129  0.992278 -0.124035   \n",
       "9   0.989949 -0.141421   31.780497  0.222082   31.780497  0.975441 -0.220261   \n",
       "10  0.989949  0.141421   72.043390  0.034708   72.001736  0.999976  0.006944   \n",
       "11  0.000000  1.000000   45.568630  1.515906   45.568630  0.054862  0.998494   \n",
       "12 -0.987763 -0.155963   54.728877  0.091487   54.728877 -0.995818 -0.091359   \n",
       "13 -1.000000  0.000000   45.675486  0.087687   45.675486 -0.996158 -0.087574   \n",
       "14  0.000000  1.000000   18.500000  1.570796   18.500000  0.000000  1.000000   \n",
       "\n",
       "           rf8           rf9       rf10       rf11      rf12    rf13  \n",
       "0   632.086711 -2.775558e-17   2.580622   0.316353  2.070312  1135.0  \n",
       "1   135.932236 -5.551115e-17   1.297243   0.200503  0.169550   884.0  \n",
       "2   259.028611  5.819538e+00  18.717652   8.043264  0.254883  1750.0  \n",
       "3   596.754967 -1.570796e+00  48.788471  45.477716  0.305664  4507.0  \n",
       "4   233.138235  4.163336e-17   0.496580   0.051668  0.346021   750.0  \n",
       "5   139.855964 -9.065989e-02   4.292378   1.483746  0.125433   962.0  \n",
       "6   414.796735  3.141593e+00  26.074120  13.013633  0.249135  2403.0  \n",
       "7   660.461201  4.712389e+00  33.437270  24.400229  0.774414  3939.0  \n",
       "8   359.522463  6.480581e+00  19.305929   6.772051  0.225779  2037.0  \n",
       "9    32.092527  4.636476e-01   1.517091   0.355943  0.200195   167.0  \n",
       "10   72.367504  1.106572e-01   0.906490   0.162538  0.224913   333.0  \n",
       "11   46.817207  0.000000e+00   6.926686   8.023344  0.118164   764.0  \n",
       "12   55.344503 -6.327488e-01   3.973440   1.861006  0.149654   453.0  \n",
       "13   46.171567 -5.551115e-17   2.975310   0.997604  0.097656   350.0  \n",
       "14   18.500000  0.000000e+00   0.000000   0.000000  0.015625   251.0  "
      ]
     },
     "metadata": {},
     "execution_count": 11
    }
   ],
   "metadata": {}
  },
  {
   "cell_type": "code",
   "execution_count": 12,
   "source": [
    "a=segments[6]\r\n",
    "a=np.concatenate(segments)\r\n",
    "plt.scatter(a[:,1],a[:,2])\r\n",
    "type(segments)"
   ],
   "outputs": [
    {
     "output_type": "execute_result",
     "data": {
      "text/plain": [
       "list"
      ]
     },
     "metadata": {},
     "execution_count": 12
    },
    {
     "output_type": "display_data",
     "data": {
      "image/png": "[encoded data removed]",
      "text/plain": [
       "<Figure size 432x288 with 1 Axes>"
      ]
     },
     "metadata": {
      "needs_background": "light"
     }
    }
   ],
   "metadata": {}
  },
  {
   "cell_type": "markdown",
   "source": [
    "# Single Link Euclidean Distance between strokes"
   ],
   "metadata": {}
  },
  {
   "cell_type": "code",
   "execution_count": 13,
   "source": [
    "import math\r\n",
    "def distance(u,v):\r\n",
    "    minimum=[]\r\n",
    "    min_d=[]\r\n",
    "    u=np.array(u)\r\n",
    "    v=np.array(v)\r\n",
    "    u=np.delete(u,0,1)\r\n",
    "    v=np.delete(v,0,1)\r\n",
    "    for i in range(len(u)):\r\n",
    "        for j in range(len(v)):\r\n",
    "            d=math.dist(u[i],v[j])\r\n",
    "            minimum.append(d)\r\n",
    "        minimum.sort()\r\n",
    "        minum=minimum[0]\r\n",
    "        min_d.append(minum)\r\n",
    "    min_d.sort()\r\n",
    "    return min_d[0]\r\n",
    "composite=[]\r\n",
    "for i in range(len(segments)):\r\n",
    "    un=segments[i]\r\n",
    "    distarr=[]\r\n",
    "    dist_index=[]\r\n",
    "    for j in range(len(segments)):\r\n",
    "        vn=segments[j]\r\n",
    "        sldist=distance(un,vn)\r\n",
    "        distarr.append(sldist)\r\n",
    "        dist_index.append(j)\r\n",
    "    matrix=np.array([dist_index,distarr])\r\n",
    "    composite.append(matrix)"
   ],
   "outputs": [],
   "metadata": {}
  },
  {
   "cell_type": "code",
   "execution_count": 14,
   "source": [
    "c=np.array(composite)\r\n",
    "c"
   ],
   "outputs": [
    {
     "output_type": "execute_result",
     "data": {
      "text/plain": [
       "array([[[  0.        ,   1.        ,   2.        ,   3.        ,\n",
       "           4.        ,   5.        ,   6.        ,   7.        ,\n",
       "           8.        ,   9.        ,  10.        ,  11.        ,\n",
       "          12.        ,  13.        ,  14.        ],\n",
       "        [  0.        ,   8.84590301, 142.50350873,   8.51469318,\n",
       "         154.65849476,  78.05767099, 131.70516315, 228.50054705,\n",
       "         233.73328817, 290.5068846 , 284.30661266, 213.53746744,\n",
       "         287.47391186, 286.63042407, 232.50053763]],\n",
       "\n",
       "       [[  0.        ,   1.        ,   2.        ,   3.        ,\n",
       "           4.        ,   5.        ,   6.        ,   7.        ,\n",
       "           8.        ,   9.        ,  10.        ,  11.        ,\n",
       "          12.        ,  13.        ,  14.        ],\n",
       "        [  8.84590301,   0.        ,   2.        , 510.16296416,\n",
       "         657.        , 579.38242983, 513.01973646, 247.59291185,\n",
       "         312.16021527, 468.51600826, 542.37187427, 604.01179624,\n",
       "         226.62799915, 159.57835066,  91.92388155]],\n",
       "\n",
       "       [[  0.        ,   1.        ,   2.        ,   3.        ,\n",
       "           4.        ,   5.        ,   6.        ,   7.        ,\n",
       "           8.        ,   9.        ,  10.        ,  11.        ,\n",
       "          12.        ,  13.        ,  14.        ],\n",
       "        [142.50350873,   2.        ,   0.        , 477.19440483,\n",
       "         632.09690713, 537.12963984, 470.91665929, 189.27493231,\n",
       "         249.82493871, 410.75357576, 487.39024406, 556.23061764,\n",
       "         151.23822268,  70.4716255 ,   3.        ]],\n",
       "\n",
       "       [[  0.        ,   1.        ,   2.        ,   3.        ,\n",
       "           4.        ,   5.        ,   6.        ,   7.        ,\n",
       "           8.        ,   9.        ,  10.        ,  11.        ,\n",
       "          12.        ,  13.        ,  14.        ],\n",
       "        [  8.51469318, 510.16296416, 477.19440483,   0.        ,\n",
       "           6.18465844,   3.53553391,  78.50636917, 201.77710475,\n",
       "         239.33710536, 249.22529968, 232.81322986, 139.95088424,\n",
       "         374.51301713, 474.86524404, 521.65050561]],\n",
       "\n",
       "       [[  0.        ,   1.        ,   2.        ,   3.        ,\n",
       "           4.        ,   5.        ,   6.        ,   7.        ,\n",
       "           8.        ,   9.        ,  10.        ,  11.        ,\n",
       "          12.        ,  13.        ,  14.        ],\n",
       "        [154.65849476, 657.        , 632.09690713,   6.18465844,\n",
       "           0.        ,  77.15082631, 140.        , 332.08620869,\n",
       "         381.04363267, 355.86022537, 296.83539209, 199.98124912,\n",
       "         525.0278564 , 629.23207166, 677.28963524]],\n",
       "\n",
       "       [[  0.        ,   1.        ,   2.        ,   3.        ,\n",
       "           4.        ,   5.        ,   6.        ,   7.        ,\n",
       "           8.        ,   9.        ,  10.        ,  11.        ,\n",
       "          12.        ,  13.        ,  14.        ],\n",
       "        [ 78.05767099, 579.38242983, 537.12963984,   3.53553391,\n",
       "          77.15082631,   0.        ,   2.        , 181.96977771,\n",
       "         236.53540961, 191.98762981, 142.00352108,  49.87233702,\n",
       "         392.22060119, 508.12424662, 572.07079981]],\n",
       "\n",
       "       [[  0.        ,   1.        ,   2.        ,   3.        ,\n",
       "           4.        ,   5.        ,   6.        ,   7.        ,\n",
       "           8.        ,   9.        ,  10.        ,  11.        ,\n",
       "          12.        ,  13.        ,  14.        ],\n",
       "        [131.70516315, 513.01973646, 470.91665929,  78.50636917,\n",
       "         140.        ,   2.        ,   0.        , 136.40472866,\n",
       "         185.92807749, 156.50079872,  99.42082277,   2.91547595,\n",
       "         335.19136325, 447.16216298, 507.42708836]],\n",
       "\n",
       "       [[  0.        ,   1.        ,   2.        ,   3.        ,\n",
       "           4.        ,   5.        ,   6.        ,   7.        ,\n",
       "           8.        ,   9.        ,  10.        ,  11.        ,\n",
       "          12.        ,  13.        ,  14.        ],\n",
       "        [228.50054705, 247.59291185, 189.27493231, 201.77710475,\n",
       "         332.08620869, 181.96977771, 136.40472866,   0.        ,\n",
       "           3.04138127,  23.08679276, 103.51086899, 176.00639193,\n",
       "           9.01387819, 133.00093985, 212.05895407]],\n",
       "\n",
       "       [[  0.        ,   1.        ,   2.        ,   3.        ,\n",
       "           4.        ,   5.        ,   6.        ,   7.        ,\n",
       "           8.        ,   9.        ,  10.        ,  11.        ,\n",
       "          12.        ,  13.        ,  14.        ],\n",
       "        [233.73328817, 312.16021527, 249.82493871, 239.33710536,\n",
       "         381.04363267, 236.53540961, 185.92807749,   3.04138127,\n",
       "           0.        ,  55.00227268, 135.51475934, 221.92622648,\n",
       "          60.        , 184.11477399, 265.10988288]],\n",
       "\n",
       "       [[  0.        ,   1.        ,   2.        ,   3.        ,\n",
       "           4.        ,   5.        ,   6.        ,   7.        ,\n",
       "           8.        ,   9.        ,  10.        ,  11.        ,\n",
       "          12.        ,  13.        ,  14.        ],\n",
       "        [290.5068846 , 468.51600826, 410.75357576, 249.22529968,\n",
       "         355.86022537, 191.98762981, 156.50079872,  23.08679276,\n",
       "          55.00227268,   0.        ,  51.5800349 , 145.5764404 ,\n",
       "         224.68032847, 348.84452124, 429.10429968]],\n",
       "\n",
       "       [[  0.        ,   1.        ,   2.        ,   3.        ,\n",
       "           4.        ,   5.        ,   6.        ,   7.        ,\n",
       "           8.        ,   9.        ,  10.        ,  11.        ,\n",
       "          12.        ,  13.        ,  14.        ],\n",
       "        [284.30661266, 542.37187427, 487.39024406, 232.81322986,\n",
       "         296.83539209, 142.00352108,  99.42082277, 103.51086899,\n",
       "         135.51475934,  51.5800349 ,   0.        ,  52.11765536,\n",
       "         305.0036885 , 429.07458559, 508.27158095]],\n",
       "\n",
       "       [[  0.        ,   1.        ,   2.        ,   3.        ,\n",
       "           4.        ,   5.        ,   6.        ,   7.        ,\n",
       "           8.        ,   9.        ,  10.        ,  11.        ,\n",
       "          12.        ,  13.        ,  14.        ],\n",
       "        [213.53746744, 604.01179624, 556.23061764, 139.95088424,\n",
       "         199.98124912,  49.87233702,   2.91547595, 176.00639193,\n",
       "         221.92622648, 145.5764404 ,  52.11765536,   0.        ,\n",
       "         388.29788823, 510.89822861, 586.        ]],\n",
       "\n",
       "       [[  0.        ,   1.        ,   2.        ,   3.        ,\n",
       "           4.        ,   5.        ,   6.        ,   7.        ,\n",
       "           8.        ,   9.        ,  10.        ,  11.        ,\n",
       "          12.        ,  13.        ,  14.        ],\n",
       "        [287.47391186, 226.62799915, 151.23822268, 374.51301713,\n",
       "         525.0278564 , 392.22060119, 335.19136325,   9.01387819,\n",
       "          60.        , 224.68032847, 305.0036885 , 388.29788823,\n",
       "           0.        ,  70.44501402, 155.2884413 ]],\n",
       "\n",
       "       [[  0.        ,   1.        ,   2.        ,   3.        ,\n",
       "           4.        ,   5.        ,   6.        ,   7.        ,\n",
       "           8.        ,   9.        ,  10.        ,  11.        ,\n",
       "          12.        ,  13.        ,  14.        ],\n",
       "        [286.63042407, 159.57835066,  70.4716255 , 474.86524404,\n",
       "         629.23207166, 508.12424662, 447.16216298, 133.00093985,\n",
       "         184.11477399, 348.84452124, 429.07458559, 510.89822861,\n",
       "          70.44501402,   0.        ,  54.11330705]],\n",
       "\n",
       "       [[  0.        ,   1.        ,   2.        ,   3.        ,\n",
       "           4.        ,   5.        ,   6.        ,   7.        ,\n",
       "           8.        ,   9.        ,  10.        ,  11.        ,\n",
       "          12.        ,  13.        ,  14.        ],\n",
       "        [232.50053763,  91.92388155,   3.        , 521.65050561,\n",
       "         677.28963524, 572.07079981, 507.42708836, 212.05895407,\n",
       "         265.10988288, 429.10429968, 508.27158095, 586.        ,\n",
       "         155.2884413 ,  54.11330705,   0.        ]]])"
      ]
     },
     "metadata": {},
     "execution_count": 14
    }
   ],
   "metadata": {}
  },
  {
   "cell_type": "markdown",
   "source": [
    "# Distinguishing between line and non-line segments"
   ],
   "metadata": {}
  },
  {
   "cell_type": "code",
   "execution_count": 15,
   "source": [
    "line_arr=[]\r\n",
    "obj_arr=[]\r\n",
    "for i in range(len(stroke_features)):\r\n",
    "    r=stroke_features[i]\r\n",
    "    end_to_end=r[4]\r\n",
    "    length=r[7]\r\n",
    "    if end_to_end>=0.90*length:\r\n",
    "        line_arr.append(i)\r\n",
    "    else:\r\n",
    "        obj_arr.append(i)\r\n",
    "        pass\r\n",
    "line_arr,obj_arr"
   ],
   "outputs": [
    {
     "output_type": "execute_result",
     "data": {
      "text/plain": [
       "([0, 1, 4, 5, 9, 10, 11, 12, 13, 14], [2, 3, 6, 7, 8])"
      ]
     },
     "metadata": {},
     "execution_count": 15
    }
   ],
   "metadata": {}
  },
  {
   "cell_type": "code",
   "execution_count": 16,
   "source": [
    "dashed=[]\r\n",
    "lines=[]\r\n",
    "for i in line_arr:\r\n",
    "    r=stroke_features[i]\r\n",
    "    length=r[7]\r\n",
    "    if length<=80:\r\n",
    "        dashed.append(i)\r\n",
    "    else:\r\n",
    "        lines.append(i)\r\n",
    "dashed,lines"
   ],
   "outputs": [
    {
     "output_type": "execute_result",
     "data": {
      "text/plain": [
       "([9, 10, 11, 12, 13, 14], [0, 1, 4, 5])"
      ]
     },
     "metadata": {},
     "execution_count": 16
    }
   ],
   "metadata": {}
  },
  {
   "cell_type": "code",
   "execution_count": 17,
   "source": [
    "objects=[]\r\n",
    "for i in obj_arr:\r\n",
    "    objects.append(stroke_features[i])\r\n",
    "\r\n",
    "df_obj=pd.DataFrame(objects,columns=['rf1','rf2','rf3','rf4','rf5','rf6','rf7','rf8','rf9','rf10','rf11','rf12','rf13'])\r\n",
    "df_obj\r\n",
    "model=pickle.load(open('RFC.sav','rb'))\r\n",
    "y_pred=model.predict(df_obj)\r\n",
    "y_pred\r\n",
    "obj_dict={}\r\n",
    "for i in range(len(obj_arr)):\r\n",
    "    obj_dict[obj_arr[i]]=y_pred[i]\r\n",
    "obj_dict"
   ],
   "outputs": [
    {
     "output_type": "stream",
     "name": "stderr",
     "text": [
      "C:\\Users\\Jason\\AppData\\Roaming\\Python\\Python38\\site-packages\\sklearn\\base.py:329: UserWarning: Trying to unpickle estimator DecisionTreeClassifier from version 1.0.2 when using version 1.1.2. This might lead to breaking code or invalid results. Use at your own risk. For more info please refer to:\n",
      "https://scikit-learn.org/stable/model_persistence.html#security-maintainability-limitations\n",
      "  warnings.warn(\n",
      "C:\\Users\\Jason\\AppData\\Roaming\\Python\\Python38\\site-packages\\sklearn\\base.py:329: UserWarning: Trying to unpickle estimator RandomForestClassifier from version 1.0.2 when using version 1.1.2. This might lead to breaking code or invalid results. Use at your own risk. For more info please refer to:\n",
      "https://scikit-learn.org/stable/model_persistence.html#security-maintainability-limitations\n",
      "  warnings.warn(\n"
     ]
    },
    {
     "output_type": "execute_result",
     "data": {
      "text/plain": [
       "{}"
      ]
     },
     "metadata": {},
     "execution_count": 17
    }
   ],
   "metadata": {}
  },
  {
   "cell_type": "code",
   "execution_count": 32,
   "id": "a575135b",
   "metadata": {},
   "outputs": [
    {
     "data": {
      "text/plain": [
       "'Circle'"
      ]
     },
     "execution_count": 32,
     "metadata": {},
     "output_type": "execute_result"
    }
   ],
   "source": [
    "y_pred[4]"
   ]
  },
  {
   "cell_type": "markdown",
   "source": [
    "# Finding Circle in Square"
   ],
   "metadata": {}
  },
  {
   "cell_type": "code",
   "execution_count": 18,
   "source": [
    "minma=[]\r\n",
    "for i in obj_arr:\r\n",
    "    segs=np.array(segments[i])\r\n",
    "    min_vals=np.amin(segs,0)\r\n",
    "    max_vals=np.amax(segs,0)\r\n",
    "    minma.extend([[min_vals[1],max_vals[1],min_vals[2],max_vals[2]]])\r\n",
    "\r\n",
    "circle_in_square=[]\r\n",
    "for i in range(0,len(minma)):\r\n",
    "    minmax2=minma[i]\r\n",
    "    minmax1=minma\r\n",
    "    for j in range(0,len(minmax1)):\r\n",
    "        if j==i:\r\n",
    "            pass\r\n",
    "        else:\r\n",
    "            rfj=minmax1[j]\r\n",
    "            if abs(minmax2[0]-rfj[0])<100:\r\n",
    "                if abs(minmax2[1]-rfj[1])<100:\r\n",
    "                    if abs(minmax2[2]-rfj[2])<100:\r\n",
    "                        if abs(minmax2[3]-rfj[3])<100:\r\n",
    "                            if i not in circle_in_square:\r\n",
    "                                circle_in_square.append(i)\r\n",
    "                                circle_in_square.append(j)"
   ],
   "outputs": [],
   "metadata": {}
  },
  {
   "cell_type": "code",
   "execution_count": 19,
   "source": [
    "cont_objs=[]\r\n",
    "for i in circle_in_square:\r\n",
    "    cont_objs.append(obj_arr[i])\r\n",
    "cont_objs"
   ],
   "outputs": [
    {
     "output_type": "execute_result",
     "data": {
      "text/plain": [
       "[7, 8]"
      ]
     },
     "metadata": {},
     "execution_count": 19
    }
   ],
   "metadata": {}
  },
  {
   "cell_type": "markdown",
   "source": [
    "# Determining Association through Euclidean Distance"
   ],
   "metadata": {}
  },
  {
   "cell_type": "code",
   "execution_count": 20,
   "source": [
    "sorted_neighbours=[]\r\n",
    "for i in range(len(c)):\r\n",
    "    a=c[i]\r\n",
    "    xcalibre=np.argsort(a[1])\r\n",
    "    xsorted=np.sort(a[1])\r\n",
    "    xsorted=xsorted[xsorted<70.45]\r\n",
    "    xsorted=xsorted[1:]\r\n",
    "    xcalibre=xcalibre[1:len(xsorted)+1]\r\n",
    "    sorted_neighbours.append(xcalibre)"
   ],
   "outputs": [],
   "metadata": {}
  },
  {
   "cell_type": "code",
   "execution_count": 21,
   "source": [
    "xsorted,xcalibre"
   ],
   "outputs": [
    {
     "output_type": "execute_result",
     "data": {
      "text/plain": [
       "(array([ 3.        , 54.11330705]), array([ 2, 13], dtype=int64))"
      ]
     },
     "metadata": {},
     "execution_count": 21
    }
   ],
   "metadata": {}
  },
  {
   "cell_type": "code",
   "execution_count": 22,
   "source": [
    "sorted_neighbours"
   ],
   "outputs": [
    {
     "output_type": "execute_result",
     "data": {
      "text/plain": [
       "[array([3, 1], dtype=int64),\n",
       " array([2, 0], dtype=int64),\n",
       " array([ 1, 14], dtype=int64),\n",
       " array([5, 4, 0], dtype=int64),\n",
       " array([3], dtype=int64),\n",
       " array([ 6,  3, 11], dtype=int64),\n",
       " array([ 5, 11], dtype=int64),\n",
       " array([ 8, 12,  9], dtype=int64),\n",
       " array([ 7,  9, 12], dtype=int64),\n",
       " array([ 7, 10,  8], dtype=int64),\n",
       " array([ 9, 11], dtype=int64),\n",
       " array([ 6,  5, 10], dtype=int64),\n",
       " array([ 7,  8, 13], dtype=int64),\n",
       " array([14, 12], dtype=int64),\n",
       " array([ 2, 13], dtype=int64)]"
      ]
     },
     "metadata": {},
     "execution_count": 22
    }
   ],
   "metadata": {}
  },
  {
   "cell_type": "markdown",
   "source": [
    "# Graph of connections"
   ],
   "metadata": {}
  },
  {
   "cell_type": "code",
   "execution_count": 23,
   "source": [
    "lines,dashed,obj_arr"
   ],
   "outputs": [
    {
     "output_type": "execute_result",
     "data": {
      "text/plain": [
       "([0, 1, 4, 5], [9, 10, 11, 12, 13, 14], [2, 3, 6, 7, 8])"
      ]
     },
     "metadata": {},
     "execution_count": 23
    }
   ],
   "metadata": {}
  },
  {
   "cell_type": "code",
   "execution_count": 24,
   "source": [
    "lines_dict={}\r\n",
    "for i in lines:\r\n",
    "    lines_dict[i]='line'\r\n",
    "dashed_dict={}\r\n",
    "for i in dashed:\r\n",
    "    dashed_dict[i]='dashed'\r\n",
    "\r\n",
    "lines_dict.update(dashed_dict)\r\n",
    "lines_dict.update(obj_dict)\r\n",
    "lines_dict"
   ],
   "outputs": [
    {
     "output_type": "execute_result",
     "data": {
      "text/plain": [
       "{0: 'line1',\n",
       " 1: 'line2',\n",
       " 4: 'line3',\n",
       " 5: 'line4',\n",
       " 9: 'dashed1',\n",
       " 10: 'dashed2',\n",
       " 11: 'dashed3',\n",
       " 12: 'dashed4',\n",
       " 13: 'dashed5',\n",
       " 14: 'dashed6',\n",
       " 2: 'Circle',\n",
       " 3: 'Valve ',\n",
       " 6: 'Semi (',\n",
       " 7: 'Square',\n",
       " 8: 'Circle'}"
      ]
     },
     "metadata": {},
     "execution_count": 24
    }
   ],
   "metadata": {}
  },
  {
   "cell_type": "code",
   "execution_count": 25,
   "source": [
    "class Symbol():\r\n",
    "    def __init__(self, symtype):\r\n",
    "        self.symtype=symtype\r\n",
    "        self.neighbors=set()\r\n",
    "    def assoc(self, other):\r\n",
    "        self.neighbors.add(other)\r\n",
    "    def dissoc(self, other):\r\n",
    "        self.neighbors.discard(other)\r\n",
    "        other.neighbors.discard(self)\r\n",
    "    # def merge(self, other):\r\n",
    "    #     self.dissoc(other)\r\n",
    "    #     self.symtype+=other.symtype\r\n",
    "    #     other.symtype=self.symtype\r\n",
    "    #     self.neighbors.update(other.neighbors)\r\n",
    "    #     other.neighbors.update(self.neighbors)\r\n",
    "    def __repr__(self):\r\n",
    "        return self.symtype+' '+str([x.symtype for x in self.neighbors])"
   ],
   "outputs": [],
   "metadata": {}
  },
  {
   "cell_type": "code",
   "execution_count": 26,
   "source": [
    "symbols = [Symbol('None') for i in lines_dict]\r\n",
    "for i in lines_dict.items():\r\n",
    "    symbols[i[0]].symtype = i[1]\r\n",
    "    for j in sorted_neighbours[i[0]]:\r\n",
    "        symbols[i[0]].assoc(symbols[j])"
   ],
   "outputs": [],
   "metadata": {}
  },
  {
   "cell_type": "code",
   "execution_count": 27,
   "source": [
    "# Merges circle & square\r\n",
    "s1, s2 = symbols[cont_objs[0]], symbols[cont_objs[1]]\r\n",
    "s1.symtype += s2.symtype\r\n",
    "s2.symtype = 'None'\r\n",
    "s1.neighbors.update(s2.neighbors)\r\n",
    "for i in symbols:\r\n",
    "    i.dissoc(s2)"
   ],
   "outputs": [],
   "metadata": {}
  },
  {
   "cell_type": "code",
   "execution_count": 28,
   "source": [
    "# Remove line-dash association\r\n",
    "temp = []\r\n",
    "for i in symbols:\r\n",
    "    for j in i.neighbors:\r\n",
    "        if i.symtype == 'line' and j.symtype == 'dashed' or i.symtype == 'dashed' and j.symtype == 'line':\r\n",
    "            temp.append((i, j))\r\n",
    "for i in temp:\r\n",
    "    i[0].dissoc(i[1])\r\n",
    "symbols\r\n"
   ],
   "outputs": [
    {
     "output_type": "execute_result",
     "data": {
      "text/plain": [
       "[line ['Valve ', 'line'],\n",
       " line ['Circle', 'line'],\n",
       " Circle ['line', 'dashed'],\n",
       " Valve  ['line', 'line', 'line'],\n",
       " line ['Valve '],\n",
       " line ['Semi (', 'Valve '],\n",
       " Semi ( ['line', 'dashed'],\n",
       " SquareCircle ['dashed', 'SquareCircle', 'dashed'],\n",
       " None [],\n",
       " dashed ['dashed', 'SquareCircle'],\n",
       " dashed ['dashed', 'dashed'],\n",
       " dashed ['Semi (', 'dashed'],\n",
       " dashed ['dashed', 'SquareCircle'],\n",
       " dashed ['dashed', 'dashed'],\n",
       " dashed ['Circle', 'dashed']]"
      ]
     },
     "metadata": {},
     "execution_count": 28
    }
   ],
   "metadata": {}
  },
  {
   "cell_type": "code",
   "execution_count": 29,
   "source": [
    "current = symbols[0]\r\n",
    "seq=[current.symtype]\r\n",
    "while True:\r\n",
    "    if len(current.neighbors) == 0:\r\n",
    "        break\r\n",
    "    nextSym = list(current.neighbors)[-1]\r\n",
    "    current.dissoc(nextSym)\r\n",
    "    # print(current.symtype+'->'+nextSym.symtype)\r\n",
    "    seq.append(nextSym.symtype)\r\n",
    "    current = nextSym\r\n",
    "while seq[0]=='line' or seq[0]=='dashed':\r\n",
    "    seq=seq[1:]\r\n",
    "trailLinestyle='-' if seq[-1]=='line' else '--'\r\n",
    "while seq[-1]=='line' or seq[-1]=='dashed':\r\n",
    "    seq=seq[:-1]\r\n",
    "seq, trailLinestyle"
   ],
   "outputs": [
    {
     "output_type": "execute_result",
     "data": {
      "text/plain": [
       "(['Circle',\n",
       "  'dashed',\n",
       "  'dashed',\n",
       "  'dashed',\n",
       "  'SquareCircle',\n",
       "  'dashed',\n",
       "  'dashed',\n",
       "  'dashed',\n",
       "  'Semi (',\n",
       "  'line',\n",
       "  'Valve '],\n",
       " '-')"
      ]
     },
     "metadata": {},
     "execution_count": 29
    }
   ],
   "metadata": {}
  },
  {
   "cell_type": "markdown",
   "source": [
    "# Graph amalgamation"
   ],
   "metadata": {}
  },
  {
   "cell_type": "code",
   "execution_count": 30,
   "source": [
    "import schemdraw\r\n",
    "from schemdraw.segments import *\r\n",
    "from schemdraw.elements import *"
   ],
   "outputs": [],
   "metadata": {}
  },
  {
   "cell_type": "code",
   "execution_count": 31,
   "source": [
    "valHeight=0.5\r\n",
    "valWidth=1\r\n",
    "gap = (math.nan, math.nan)  # Put a gap in a path\r\n",
    "class Valve(Element2Term):\r\n",
    "    def __init__(self, *d, **kwargs):\r\n",
    "        super().__init__(*d, **kwargs)\r\n",
    "        self.segments.append(Segment([(0, 0), gap, (valWidth, 0)]))\r\n",
    "        self.segments.append(Segment([(0, 0),\r\n",
    "                                      (0, valHeight),\r\n",
    "                                      (0, -valHeight),\r\n",
    "                                      (valWidth, valHeight),\r\n",
    "                                      (valWidth, -valHeight),\r\n",
    "                                      (0, valHeight),\r\n",
    "                                      ]))\r\n",
    "\r\n",
    "\r\n",
    "ctrlHeight=0.5\r\n",
    "ctrlWidth=1\r\n",
    "class Control(Element2Term):\r\n",
    "    ''' Generic source element '''\r\n",
    "    def __init__(self, *d, **kwargs):\r\n",
    "        super().__init__(*d, **kwargs)\r\n",
    "        self.segments.append(Segment([(0, 0),gap,(ctrlWidth, 0)]))\r\n",
    "        self.segments.append(Segment([(0, ctrlHeight),\r\n",
    "                                      (0, -ctrlHeight),\r\n",
    "                                      (ctrlWidth, -ctrlHeight),\r\n",
    "                                      (ctrlWidth, ctrlHeight),\r\n",
    "                                      (0, ctrlHeight)]))\r\n",
    "        self.segments.append(SegmentCircle((0.5, 0), 0.5,))\r\n",
    "\r\n",
    "\r\n",
    "semiHeight=0.5\r\n",
    "semiWidth=0.5\r\n",
    "class Semi(Element2Term):\r\n",
    "    def __init__(self, *d, **kwargs):\r\n",
    "        super().__init__(*d, **kwargs)\r\n",
    "        self.segments.append(Segment([(0, 0),gap,(semiWidth, 0)]))\r\n",
    "        self.segments.append(Segment([(0, semiHeight),(0, -semiHeight)]))\r\n",
    "        self.segments.append(SegmentArc((0, 0), semiWidth*2, semiWidth*2, 270, 90))\r\n",
    "\r\n",
    "class Circle(Element2Term):\r\n",
    "    def __init__(self, *d, **kwargs):\r\n",
    "        super().__init__(*d, **kwargs)\r\n",
    "        self.segments.append(Segment([(0, 0), (0, 0), gap, (1, 0), (1, 0)]))\r\n",
    "        self.segments.append(SegmentCircle((0.5, 0), 0.5,))"
   ],
   "outputs": [],
   "metadata": {}
  },
  {
   "cell_type": "code",
   "execution_count": 32,
   "source": [
    "def drawSeg(symtype):\r\n",
    "    global theta\r\n",
    "    if symtype == 'line':\r\n",
    "        theta += 90\r\n",
    "        return [Line(), Line(theta=theta)]\r\n",
    "    if symtype == 'dashed':\r\n",
    "        theta += 90\r\n",
    "        return [Line(ls='--'), Line(ls='--', theta=theta)]\r\n",
    "    if symtype == 'Circle':\r\n",
    "        return [Circle(extend=False)]\r\n",
    "    if symtype == 'Valve ':\r\n",
    "        return [Valve(extend=False)]\r\n",
    "    if symtype == 'Semi (':\r\n",
    "        return [Semi(extend=False)]\r\n",
    "    if symtype == 'SquareCircle':\r\n",
    "        return [Control(extend=False)]\r\n"
   ],
   "outputs": [],
   "metadata": {}
  },
  {
   "cell_type": "code",
   "execution_count": 33,
   "source": [
    "theta = 0\r\n",
    "with schemdraw.Drawing() as d:\r\n",
    "    d.config(unit=2.0)\r\n",
    "    prev=None\r\n",
    "    for i in seq:\r\n",
    "        if i==prev:\r\n",
    "            continue\r\n",
    "        d.add_elements(*drawSeg(i))\r\n",
    "        prev=i\r\n",
    "        print(i)\r\n",
    "    d.add(Wire('|-', ls=trailLinestyle).to((0,0)))"
   ],
   "outputs": [
    {
     "output_type": "stream",
     "name": "stdout",
     "text": [
      "Circle\n",
      "dashed\n",
      "SquareCircle\n",
      "dashed\n",
      "Semi (\n",
      "line\n",
      "Valve \n"
     ]
    },
    {
     "output_type": "display_data",
     "data": {
      "image/png": "[encoded data removed]",
      "image/svg+xml": "<?xml version=\"1.0\" encoding=\"utf-8\" standalone=\"no\"?>\n<!DOCTYPE svg PUBLIC \"-//W3C//DTD SVG 1.1//EN\"\n  \"http://www.w3.org/Graphics/SVG/1.1/DTD/svg11.dtd\">\n<svg xmlns:xlink=\"http://www.w3.org/1999/xlink\" width=\"188.82pt\" height=\"204.12pt\" viewBox=\"0 0 188.82 204.12\" xmlns=\"http://www.w3.org/2000/svg\" version=\"1.1\">\n <metadata>\n  <rdf:RDF xmlns:dc=\"http://purl.org/dc/elements/1.1/\" xmlns:cc=\"http://creativecommons.org/ns#\" xmlns:rdf=\"http://www.w3.org/1999/02/22-rdf-syntax-ns#\">\n   <cc:Work>\n    <dc:type rdf:resource=\"http://purl.org/dc/dcmitype/StillImage\"/>\n    <dc:date>2022-12-14T00:41:24.833972</dc:date>\n    <dc:format>image/svg+xml</dc:format>\n    <dc:creator>\n     <cc:Agent>\n      <dc:title>Matplotlib v3.6.0, https://matplotlib.org/</dc:title>\n     </cc:Agent>\n    </dc:creator>\n   </cc:Work>\n  </rdf:RDF>\n </metadata>\n <defs>\n  <style type=\"text/css\">*{stroke-linejoin: round; stroke-linecap: butt}</style>\n </defs>\n <g id=\"figure_1\">\n  <g id=\"patch_1\">\n   <path d=\"M 0 204.12 \nL 188.82 204.12 \nL 188.82 0 \nL 0 0 \nL 0 204.12 \nz\n\" style=\"fill: none\"/>\n  </g>\n  <g id=\"axes_1\">\n   <g id=\"patch_2\">\n    <path d=\"M 86.76 193.86 \nC 90.817607 193.86 94.709572 192.247895 97.578734 189.378734 \nC 100.447895 186.509572 102.06 182.617607 102.06 178.56 \nC 102.06 174.502393 100.447895 170.610428 97.578734 167.741266 \nC 94.709572 164.872105 90.817607 163.26 86.76 163.26 \nC 82.702393 163.26 78.810428 164.872105 75.941266 167.741266 \nC 73.072105 170.610428 71.46 174.502393 71.46 178.56 \nC 71.46 182.617607 73.072105 186.509572 75.941266 189.378734 \nC 78.810428 192.247895 82.702393 193.86 86.76 193.86 \nL 86.76 193.86 \nz\n\" clip-path=\"url(#p9ca2a39e3a)\" style=\"fill: none; stroke: #000000; stroke-width: 2; stroke-linejoin: miter\"/>\n   </g>\n   <g id=\"patch_3\">\n    <path d=\"M 163.26 117.36 \nC 167.317607 117.36 171.209572 115.747895 174.078734 112.878734 \nC 176.947895 110.009572 178.56 106.117607 178.56 102.06 \nC 178.56 98.002393 176.947895 94.110428 174.078734 91.241266 \nC 171.209572 88.372105 167.317607 86.76 163.26 86.76 \nC 159.202393 86.76 155.310428 88.372105 152.441266 91.241266 \nC 149.572105 94.110428 147.96 98.002393 147.96 102.06 \nC 147.96 106.117607 149.572105 110.009572 152.441266 112.878734 \nC 155.310428 115.747895 159.202393 117.36 163.26 117.36 \nL 163.26 117.36 \nz\n\" clip-path=\"url(#p9ca2a39e3a)\" style=\"fill: none; stroke: #000000; stroke-width: 2; stroke-linejoin: miter\"/>\n   </g>\n   <g id=\"patch_4\">\n    <path d=\"M 102.06 10.26 \nC 98.003744 10.26 94.109472 11.87306 91.241266 14.741266 \nC 88.37306 17.609472 86.76 21.503744 86.76 25.56 \nC 86.76 29.616256 88.37306 33.510528 91.241266 36.378734 \nC 94.109472 39.24694 98.003744 40.86 102.06 40.86 \n\" clip-path=\"url(#p9ca2a39e3a)\" style=\"fill: none; stroke: #000000; stroke-width: 2; stroke-linejoin: miter\"/>\n   </g>\n   <g id=\"line2d_1\">\n    <path d=\"M 71.46 178.56 \nL 71.46 178.56 \nM 102.06 178.56 \nL 102.06 178.56 \n\" clip-path=\"url(#p9ca2a39e3a)\" style=\"fill: none; stroke: #000000; stroke-width: 2; stroke-linecap: round\"/>\n   </g>\n   <g id=\"line2d_2\">\n    <path d=\"M 102.06 178.56 \nL 132.66 178.56 \nL 163.26 178.56 \n\" clip-path=\"url(#p9ca2a39e3a)\" style=\"fill: none; stroke-dasharray: 7.4,3.2; stroke-dashoffset: 0; stroke: #000000; stroke-width: 2\"/>\n   </g>\n   <g id=\"line2d_3\">\n    <path d=\"M 163.26 178.56 \nL 163.26 147.96 \nL 163.26 117.36 \n\" clip-path=\"url(#p9ca2a39e3a)\" style=\"fill: none; stroke-dasharray: 7.4,3.2; stroke-dashoffset: 0; stroke: #000000; stroke-width: 2\"/>\n   </g>\n   <g id=\"line2d_4\">\n    <path d=\"M 163.26 117.36 \nM 163.26 86.76 \n\" clip-path=\"url(#p9ca2a39e3a)\" style=\"fill: none; stroke: #000000; stroke-width: 2; stroke-linecap: round\"/>\n   </g>\n   <g id=\"line2d_5\">\n    <path d=\"M 147.96 117.36 \nL 178.56 117.36 \nL 178.56 86.76 \nL 147.96 86.76 \nL 147.96 117.36 \n\" clip-path=\"url(#p9ca2a39e3a)\" style=\"fill: none; stroke: #000000; stroke-width: 2; stroke-linecap: round\"/>\n   </g>\n   <g id=\"line2d_6\">\n    <path d=\"M 163.26 86.76 \nL 163.26 56.16 \nL 163.26 25.56 \n\" clip-path=\"url(#p9ca2a39e3a)\" style=\"fill: none; stroke-dasharray: 7.4,3.2; stroke-dashoffset: 0; stroke: #000000; stroke-width: 2\"/>\n   </g>\n   <g id=\"line2d_7\">\n    <path d=\"M 163.26 25.56 \nL 132.66 25.56 \nL 102.06 25.56 \n\" clip-path=\"url(#p9ca2a39e3a)\" style=\"fill: none; stroke-dasharray: 7.4,3.2; stroke-dashoffset: 0; stroke: #000000; stroke-width: 2\"/>\n   </g>\n   <g id=\"line2d_8\">\n    <path d=\"M 102.06 25.56 \nM 86.76 25.56 \n\" clip-path=\"url(#p9ca2a39e3a)\" style=\"fill: none; stroke: #000000; stroke-width: 2; stroke-linecap: round\"/>\n   </g>\n   <g id=\"line2d_9\">\n    <path d=\"M 102.06 40.86 \nL 102.06 10.26 \n\" clip-path=\"url(#p9ca2a39e3a)\" style=\"fill: none; stroke: #000000; stroke-width: 2; stroke-linecap: round\"/>\n   </g>\n   <g id=\"line2d_10\">\n    <path d=\"M 86.76 25.56 \nL 56.16 25.56 \nL 25.56 25.56 \n\" clip-path=\"url(#p9ca2a39e3a)\" style=\"fill: none; stroke: #000000; stroke-width: 2; stroke-linecap: round\"/>\n   </g>\n   <g id=\"line2d_11\">\n    <path d=\"M 25.56 25.56 \nL 25.56 56.16 \nL 25.56 86.76 \n\" clip-path=\"url(#p9ca2a39e3a)\" style=\"fill: none; stroke: #000000; stroke-width: 2; stroke-linecap: round\"/>\n   </g>\n   <g id=\"line2d_12\">\n    <path d=\"M 25.56 86.76 \nM 25.56 117.36 \n\" clip-path=\"url(#p9ca2a39e3a)\" style=\"fill: none; stroke: #000000; stroke-width: 2; stroke-linecap: round\"/>\n   </g>\n   <g id=\"line2d_13\">\n    <path d=\"M 25.56 86.76 \nL 40.86 86.76 \nL 10.26 86.76 \nL 40.86 117.36 \nL 10.26 117.36 \nL 40.86 86.76 \n\" clip-path=\"url(#p9ca2a39e3a)\" style=\"fill: none; stroke: #000000; stroke-width: 2; stroke-linecap: round\"/>\n   </g>\n   <g id=\"line2d_14\">\n    <path d=\"M 25.56 117.36 \nL 25.56 178.56 \nL 71.46 178.56 \n\" clip-path=\"url(#p9ca2a39e3a)\" style=\"fill: none; stroke: #000000; stroke-width: 2; stroke-linecap: round\"/>\n   </g>\n  </g>\n </g>\n <defs>\n  <clipPath id=\"p9ca2a39e3a\">\n   <rect x=\"7.2\" y=\"7.2\" width=\"174.42\" height=\"189.72\"/>\n  </clipPath>\n </defs>\n</svg>\n",
      "text/plain": [
       "<schemdraw.backends.mpl.Figure object at 0x00000128DF4730A0>"
      ]
     },
     "metadata": {}
    }
   ],
   "metadata": {}
  }
 ],
 "metadata": {
  "kernelspec": {
   "name": "python3",
   "display_name": "Python 3.8.10 64-bit (system)"
  },
  "language_info": {
   "codemirror_mode": {
    "name": "ipython",
    "version": 3
   },
   "file_extension": ".py",
   "mimetype": "text/x-python",
   "name": "python",
   "nbconvert_exporter": "python",
   "pygments_lexer": "ipython3",
   "version": "3.8.10"
  },
  "interpreter": {
   "hash": "e922dd073470bdcc017ae3abd31d6491d6ed7bf31c1d559806e5511bfea88b81"
  }
 },
 "nbformat": 4,
 "nbformat_minor": 5
}