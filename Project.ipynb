{
 "cells": [
  {
   "cell_type": "code",
   "execution_count": null,
   "source": [
    "import pandas as pd\r\n",
    "import numpy as np\r\n",
    "import matplotlib.pyplot as plt\r\n",
    "import math\r\n",
    "df=pd.read_csv('data.csv')\r\n",
    "import pickle"
   ],
   "outputs": [],
   "metadata": {}
  },
  {
   "cell_type": "markdown",
   "source": [
    "# Data Preprocessing"
   ],
   "metadata": {}
  },
  {
   "cell_type": "code",
   "execution_count": null,
   "source": [
    "data=df.to_numpy()\r\n",
    "data1=data[:,0]\r\n",
    "x=len(data1)\r\n",
    "seperations=[0]\r\n",
    "for i in range(len(data1)-1):\r\n",
    "    if (data1[i+1]-data1[i])>=500:\r\n",
    "        seperations.append(i)\r\n",
    "    else:\r\n",
    "        pass\r\n",
    "seperations.append(x)\r\n",
    "seperations"
   ],
   "outputs": [],
   "metadata": {}
  },
  {
   "cell_type": "code",
   "execution_count": null,
   "source": [
    "# normalization\r\n",
    "segments=[]\r\n",
    "for i in range(len(seperations)-1):\r\n",
    "    segments.append(data[(seperations[i]+3):(seperations[i+1]-3)])\r\n",
    "len(segments)"
   ],
   "outputs": [],
   "metadata": {}
  },
  {
   "cell_type": "code",
   "execution_count": null,
   "source": [
    "a=np.concatenate(segments)\r\n",
    "plt.scatter(a[:,1],a[:,2])\r\n",
    "type(segments)"
   ],
   "outputs": [],
   "metadata": {}
  },
  {
   "cell_type": "markdown",
   "source": [
    "# Rubine Feature Extraction"
   ],
   "metadata": {}
  },
  {
   "cell_type": "code",
   "execution_count": null,
   "source": [
    "def dx(i): return dat.x[i]-dat.x[i-1]\r\n",
    "def dy(i): return dat.y[i]-dat.y[i-1]\r\n",
    "def dt(i): return dat.time[i]-dat.time[i-1]\r\n",
    "def theta(i):return math.atan2(dx(i+1)*dy(i)-dx(i)*dy(i+1),dx(i+1)*dx(i)+dy(i+1)*dy(i))\r\n",
    "def sigma(start, end, fun): return sum([fun(i) for i in range(start, end)])\r\n",
    "def rf1(d): return (d.x[2]-d.x[0])/math.sqrt((d.y[2]-d.y[0])**2+(d.x[2]-d.x[0])**2)\r\n",
    "def rf2(d): return (d.y[2]-d.y[0])/math.sqrt((d.y[2]-d.y[0])**2+(d.x[2]-d.x[0])**2)\r\n",
    "def rf3(d): return math.sqrt((max(d.y)-min(d.y))**2+(max(d.x)-min(d.x))**2)\r\n",
    "def rf4(d): return math.atan2(max(d.y)-min(d.y), max(d.x)-min(d.x))\r\n",
    "def rf5(d): return math.sqrt((d.x[len(d)-1]-d.x[0])**2+(d.y[len(d)-1]-d.y[0])**2)\r\n",
    "def rf6(d): return (d.x[len(d)-1]-d.x[0])/rf5(d)\r\n",
    "def rf7(d): return (d.y[len(d)-1]-d.y[0])/rf5(d)\r\n",
    "def rf8(d): return sigma(1, len(d), lambda i: math.sqrt(dx(i)**2+dy(i)**2))\r\n",
    "def rf9(d): return sigma(1, len(d)-1, theta)\r\n",
    "def rf10(d): return sigma(1, len(d)-1, lambda i: abs(theta(i)))\r\n",
    "def rf11(d): return sigma(1, len(d)-1, lambda i: theta(i)**2)\r\n",
    "def rf12(d): return max([(dx(i)**2+dy(i)**2)/dt(i)**2 if dt(i) > 0 else 0 for i in range(1, len(d))])\r\n",
    "def rf13(d): return d.time[len(d)-1]-d.time[0]"
   ],
   "outputs": [],
   "metadata": {}
  },
  {
   "cell_type": "code",
   "execution_count": null,
   "source": [
    "df_list=[]\r\n",
    "for i in segments:\r\n",
    "    df_list.append(pd.DataFrame(i,columns=['time','x','y']))\r\n",
    "stroke_features=[]\r\n",
    "for i in range(len(df_list)):\r\n",
    "    temp=[]\r\n",
    "    dat=df_list[i]\r\n",
    "    f1=rf1(df_list[i])\r\n",
    "    f2=rf2(df_list[i])\r\n",
    "    f3=rf3(df_list[i])\r\n",
    "    f4=rf4(df_list[i])\r\n",
    "    f5=rf5(df_list[i])\r\n",
    "    f6=rf6(df_list[i])\r\n",
    "    f7=rf7(df_list[i])\r\n",
    "    f8=rf8(df_list[i])\r\n",
    "    f9=rf9(df_list[i])\r\n",
    "    f10=rf10(df_list[i])\r\n",
    "    f11=rf11(df_list[i])\r\n",
    "    f12=rf12(df_list[i])\r\n",
    "    f13=rf13(df_list[i])\r\n",
    "    temp+=[f1,f2,f3,f4,f5,f6,f7,f8,f9,f10,f11,f12,f13]\r\n",
    "    stroke_features.append(temp)"
   ],
   "outputs": [],
   "metadata": {}
  },
  {
   "cell_type": "code",
   "execution_count": null,
   "source": [
    "df=pd.DataFrame(stroke_features,columns=['rf1','rf2','rf3','rf4','rf5','rf6','rf7','rf8','rf9','rf10','rf11','rf12','rf13'])\r\n",
    "df"
   ],
   "outputs": [],
   "metadata": {}
  },
  {
   "cell_type": "markdown",
   "source": [
    "# Single Link Euclidean Distance between strokes"
   ],
   "metadata": {}
  },
  {
   "cell_type": "code",
   "execution_count": null,
   "source": [
    "def distance(u,v):\r\n",
    "    minimum=[]\r\n",
    "    min_d=[]\r\n",
    "    u=np.array(u)\r\n",
    "    v=np.array(v)\r\n",
    "    u=np.delete(u,0,1)\r\n",
    "    v=np.delete(v,0,1)\r\n",
    "    for i in range(len(u)):\r\n",
    "        for j in range(len(v)):\r\n",
    "            d=math.dist(u[i],v[j])\r\n",
    "            minimum.append(d)\r\n",
    "        minimum.sort()\r\n",
    "        minum=minimum[0]\r\n",
    "        min_d.append(minum)\r\n",
    "    min_d.sort()\r\n",
    "    return min_d[0]\r\n",
    "composite=[]\r\n",
    "for i in range(len(segments)):\r\n",
    "    un=segments[i]\r\n",
    "    distarr=[]\r\n",
    "    dist_index=[]\r\n",
    "    for j in range(len(segments)):\r\n",
    "        vn=segments[j]\r\n",
    "        sldist=distance(un,vn)\r\n",
    "        distarr.append(sldist)\r\n",
    "        dist_index.append(j)\r\n",
    "    matrix=np.array([dist_index,distarr])\r\n",
    "    composite.append(matrix)\r\n",
    "c=np.array(composite)\r\n",
    "c"
   ],
   "outputs": [],
   "metadata": {}
  },
  {
   "cell_type": "markdown",
   "source": [
    "# Distinguishing between line and non-line segments"
   ],
   "metadata": {}
  },
  {
   "cell_type": "code",
   "execution_count": null,
   "source": [
    "line_arr=[]\r\n",
    "obj_arr=[]\r\n",
    "for i in range(len(stroke_features)):\r\n",
    "    r=stroke_features[i]\r\n",
    "    end_to_end=r[4]\r\n",
    "    length=r[7]\r\n",
    "    if end_to_end>=0.90*length:\r\n",
    "        line_arr.append(i)\r\n",
    "    else:\r\n",
    "        obj_arr.append(i)\r\n",
    "        pass\r\n",
    "line_arr,obj_arr"
   ],
   "outputs": [],
   "metadata": {}
  },
  {
   "cell_type": "code",
   "execution_count": null,
   "source": [
    "dashed=[]\r\n",
    "lines=[]\r\n",
    "for i in line_arr:\r\n",
    "    r=stroke_features[i]\r\n",
    "    length=r[7]\r\n",
    "    if length<=80:\r\n",
    "        dashed.append(i)\r\n",
    "    else:\r\n",
    "        lines.append(i)\r\n",
    "dashed,lines"
   ],
   "outputs": [],
   "metadata": {}
  },
  {
   "cell_type": "markdown",
   "source": [
    "# Symbol Classification"
   ],
   "metadata": {}
  },
  {
   "cell_type": "code",
   "execution_count": null,
   "source": [
    "objects=[]\r\n",
    "for i in obj_arr:\r\n",
    "    objects.append(stroke_features[i])\r\n",
    "\r\n",
    "df_obj=pd.DataFrame(objects,columns=['rf1','rf2','rf3','rf4','rf5','rf6','rf7','rf8','rf9','rf10','rf11','rf12','rf13'])\r\n",
    "df_obj\r\n",
    "model=pickle.load(open('RFC.sav','rb'))\r\n",
    "y_pred=model.predict(df_obj)\r\n",
    "y_pred\r\n",
    "obj_dict={}\r\n",
    "for i in range(len(obj_arr)):\r\n",
    "    obj_dict[obj_arr[i]]=y_pred[i]\r\n",
    "obj_dict"
   ],
   "outputs": [],
   "metadata": {}
  },
  {
   "cell_type": "markdown",
   "source": [
    "# Finding Circle in Square"
   ],
   "metadata": {}
  },
  {
   "cell_type": "code",
   "execution_count": null,
   "source": [
    "minma=[]\r\n",
    "for i in obj_arr:\r\n",
    "    segs=np.array(segments[i])\r\n",
    "    min_vals=np.amin(segs,0)\r\n",
    "    max_vals=np.amax(segs,0)\r\n",
    "    minma.extend([[min_vals[1],max_vals[1],min_vals[2],max_vals[2]]])\r\n",
    "\r\n",
    "circle_in_square=[]\r\n",
    "for i in range(0,len(minma)):\r\n",
    "    minmax2=minma[i]\r\n",
    "    minmax1=minma\r\n",
    "    for j in range(0,len(minmax1)):\r\n",
    "        if j==i:\r\n",
    "            pass\r\n",
    "        else:\r\n",
    "            rfj=minmax1[j]\r\n",
    "            if abs(minmax2[0]-rfj[0])<100:\r\n",
    "                if abs(minmax2[1]-rfj[1])<100:\r\n",
    "                    if abs(minmax2[2]-rfj[2])<100:\r\n",
    "                        if abs(minmax2[3]-rfj[3])<100:\r\n",
    "                            if i not in circle_in_square:\r\n",
    "                                circle_in_square.append(i)\r\n",
    "                                circle_in_square.append(j)"
   ],
   "outputs": [],
   "metadata": {}
  },
  {
   "cell_type": "code",
   "execution_count": null,
   "source": [
    "cont_objs=[]\r\n",
    "for i in circle_in_square:\r\n",
    "    cont_objs.append(obj_arr[i])\r\n",
    "cont_objs"
   ],
   "outputs": [],
   "metadata": {}
  },
  {
   "cell_type": "markdown",
   "source": [
    "# Determining Association through Euclidean Distance"
   ],
   "metadata": {}
  },
  {
   "cell_type": "code",
   "execution_count": null,
   "source": [
    "sorted_neighbours=[]\r\n",
    "for i in range(len(c)):\r\n",
    "    a=c[i]\r\n",
    "    xcalibre=np.argsort(a[1])\r\n",
    "    xsorted=np.sort(a[1])\r\n",
    "    xsorted=xsorted[xsorted<70.45]\r\n",
    "    xsorted=xsorted[1:]\r\n",
    "    xcalibre=xcalibre[1:len(xsorted)+1]\r\n",
    "    sorted_neighbours.append(xcalibre)\r\n",
    "sorted_neighbours"
   ],
   "outputs": [],
   "metadata": {}
  },
  {
   "cell_type": "markdown",
   "source": [
    "# Graph of connections"
   ],
   "metadata": {}
  },
  {
   "cell_type": "code",
   "execution_count": null,
   "source": [
    "lines_dict={}\r\n",
    "for i in lines:\r\n",
    "    lines_dict[i]='line'\r\n",
    "dashed_dict={}\r\n",
    "for i in dashed:\r\n",
    "    dashed_dict[i]='dashed'\r\n",
    "\r\n",
    "lines_dict.update(dashed_dict)\r\n",
    "lines_dict.update(obj_dict)\r\n",
    "lines_dict"
   ],
   "outputs": [],
   "metadata": {}
  },
  {
   "cell_type": "code",
   "execution_count": null,
   "source": [
    "class Symbol():\r\n",
    "    def __init__(self, symtype):\r\n",
    "        self.symtype=symtype\r\n",
    "        self.neighbors=set()\r\n",
    "    def assoc(self, other):\r\n",
    "        self.neighbors.add(other)\r\n",
    "        other.neighbors.add(self)\r\n",
    "    def dissoc(self, other):\r\n",
    "        self.neighbors.discard(other)\r\n",
    "        other.neighbors.discard(self)\r\n",
    "    def merge(self, other=None):\r\n",
    "        if len(self.neighbors)==0:\r\n",
    "            return\r\n",
    "        o=self.neighbors.pop()\r\n",
    "        self.dissoc(o)\r\n",
    "        d=self.neighbors.pop()\r\n",
    "        self.dissoc(d)\r\n",
    "        o.assoc(d)\r\n",
    "    def __repr__(self):\r\n",
    "        return self.symtype+' '+str([x.symtype for x in self.neighbors])"
   ],
   "outputs": [],
   "metadata": {}
  },
  {
   "cell_type": "code",
   "execution_count": null,
   "source": [
    "symbols = [Symbol('None') for i in lines_dict]\r\n",
    "for i in lines_dict.items():\r\n",
    "    symbols[i[0]].symtype = i[1]\r\n",
    "    for j in sorted_neighbours[i[0]]:\r\n",
    "        symbols[i[0]].assoc(symbols[j])"
   ],
   "outputs": [],
   "metadata": {}
  },
  {
   "cell_type": "code",
   "execution_count": null,
   "source": [
    "# Merges circle & square\r\n",
    "s1, s2 = symbols[cont_objs[0]], symbols[cont_objs[1]]\r\n",
    "s1.dissoc(s2)\r\n",
    "s1.symtype += s2.symtype\r\n",
    "s2.symtype = 'None'\r\n",
    "s1.neighbors.update(s2.neighbors)\r\n",
    "for i in symbols:\r\n",
    "    i.dissoc(s2)"
   ],
   "outputs": [],
   "metadata": {}
  },
  {
   "cell_type": "code",
   "execution_count": null,
   "source": [
    "# Remove line-dash association\r\n",
    "temp = []\r\n",
    "for i in symbols:\r\n",
    "    for j in i.neighbors:\r\n",
    "        if i.symtype == 'line' and j.symtype == 'dashed' or i.symtype == 'dashed' and j.symtype == 'line':\r\n",
    "            temp.append((i, j))\r\n",
    "for i in temp:\r\n",
    "    i[0].dissoc(i[1])"
   ],
   "outputs": [],
   "metadata": {}
  },
  {
   "cell_type": "code",
   "execution_count": null,
   "source": [
    "# Merge consecutive lines\r\n",
    "for i in symbols:\r\n",
    "    nlist=list(i.neighbors)\r\n",
    "    for j in nlist:\r\n",
    "        if (i.symtype=='line' or i.symtype=='dashed') and i.symtype==j.symtype:\r\n",
    "            i.merge(j)"
   ],
   "outputs": [],
   "metadata": {}
  },
  {
   "cell_type": "code",
   "execution_count": null,
   "source": [
    "#Merge Valve components\r\n",
    "for i in symbols:\r\n",
    "    temp=[x.symtype for x in i.neighbors]\r\n",
    "    if i.symtype == 'Semi (' or 'Valve ' in temp and 'Semi (' in temp:\r\n",
    "        i.merge()\r\n",
    "symbols= [i for i in symbols if len(i.neighbors)>0]\r\n",
    "symbols"
   ],
   "outputs": [],
   "metadata": {}
  },
  {
   "cell_type": "markdown",
   "source": [
    "# Graph amalgamation"
   ],
   "metadata": {}
  },
  {
   "cell_type": "code",
   "execution_count": null,
   "source": [
    "import schemdraw\r\n",
    "from schemdraw.segments import *\r\n",
    "from schemdraw.elements import *"
   ],
   "outputs": [],
   "metadata": {}
  },
  {
   "cell_type": "code",
   "execution_count": null,
   "source": [
    "valHeight=1\r\n",
    "valWidth=1\r\n",
    "gap = (math.nan, math.nan)  # Put a gap in a path\r\n",
    "class Valve1(Element):\r\n",
    "    def __init__(self, *d, **kwargs):\r\n",
    "        super().__init__(*d, **kwargs)\r\n",
    "        self.segments.append(Segment([(0, 0),\r\n",
    "                                      (-valWidth/2, -valHeight/2),\r\n",
    "                                      (valWidth/2, -valHeight/2),\r\n",
    "                                      (-valWidth/2, valHeight/2),\r\n",
    "                                      (valWidth/2, valHeight/2),\r\n",
    "                                      (0, 0)\r\n",
    "                                      ]))\r\n",
    "        self.segments.append(Segment([(0, valHeight/2),(0, valHeight/2+1)]))\r\n",
    "        self.segments.append(Segment([(0, -valHeight/2),(0, -valHeight/2-1)]))\r\n",
    "        self.segments.append(Segment([(0, 0),(1, 0)]))\r\n",
    "        self.segments.append(Segment([(1, semiHeight),(1, -semiHeight)]))\r\n",
    "        self.segments.append(SegmentArc((1, 0), semiWidth, semiWidth, 270, 90))\r\n",
    "        self.anchors['start']=(1+semiWidth/2, 0)\r\n",
    "        self.anchors['end']=(0,-valHeight/2)\r\n",
    "\r\n",
    "ctrlHeight=0.5\r\n",
    "ctrlWidth=1\r\n",
    "class Control(Element2Term):\r\n",
    "    ''' Generic source element '''\r\n",
    "    def __init__(self, *d, **kwargs):\r\n",
    "        super().__init__(*d, **kwargs)\r\n",
    "        self.segments.append(Segment([(0, 0),gap,(ctrlWidth, 0)]))\r\n",
    "        self.segments.append(Segment([(0, ctrlHeight),\r\n",
    "                                      (0, -ctrlHeight),\r\n",
    "                                      (ctrlWidth, -ctrlHeight),\r\n",
    "                                      (ctrlWidth, ctrlHeight),\r\n",
    "                                      (0, ctrlHeight)]))\r\n",
    "        self.segments.append(SegmentCircle((0.5, 0), 0.5,))\r\n",
    "\r\n",
    "\r\n",
    "semiHeight=0.5\r\n",
    "semiWidth=1\r\n",
    "class Semi(Element2Term):\r\n",
    "    def __init__(self, *d, **kwargs):\r\n",
    "        super().__init__(*d, **kwargs)\r\n",
    "        self.segments.append(Segment([(0, 0),gap,(semiWidth, 0)]))\r\n",
    "        self.segments.append(Segment([(0, semiHeight*2),(0, -semiHeight*2)]))\r\n",
    "        self.segments.append(SegmentArc((0, 0), semiWidth*2, semiWidth*2, 270, 90))\r\n",
    "\r\n",
    "class Circle(Element2Term):\r\n",
    "    def __init__(self, *d, **kwargs):\r\n",
    "        super().__init__(*d, **kwargs)\r\n",
    "        self.segments.append(Segment([(0, 0), (0, 0), gap, (1, 0), (1, 0)]))\r\n",
    "        self.segments.append(SegmentCircle((0.5, 0), 0.5,))"
   ],
   "outputs": [],
   "metadata": {}
  },
  {
   "cell_type": "code",
   "execution_count": null,
   "source": [
    "import copy\r\n",
    "backup=symbols\r\n",
    "\r\n",
    "def drawSeg(sym):\r\n",
    "    global theta\r\n",
    "    if sym.symtype == 'line':\r\n",
    "        # theta += 90\r\n",
    "        return [Line(theta=theta)]\r\n",
    "        # return Wire('-|', theta=theta)\r\n",
    "        # return [Line()]\r\n",
    "    if sym.symtype == 'dashed':\r\n",
    "        # theta += 90\r\n",
    "        return [Line(ls='--', theta=theta)]\r\n",
    "        # return Wire('-|', ls='--', theta=theta)\r\n",
    "        # return [Line(ls='--')]\r\n",
    "    if sym.symtype == 'Circle':\r\n",
    "        return [Circle(extend=False)]\r\n",
    "    if sym.symtype == 'Valve ':\r\n",
    "        theta=-90\r\n",
    "        return [Valve1(extend=False).reverse()]\r\n",
    "    if sym.symtype == 'Semi (':\r\n",
    "        return [Semi(extend=False)]\r\n",
    "    # if sym.symtype == 'SquareCircle':\r\n",
    "    return [Control(extend=False)]\r\n"
   ],
   "outputs": [],
   "metadata": {}
  },
  {
   "cell_type": "code",
   "execution_count": null,
   "source": [
    "def dfs(d, sym, endpoint):\r\n",
    "    global btrack\r\n",
    "    seg=drawSeg(sym)\r\n",
    "    end=[endpoint]\r\n",
    "    for i in seg:\r\n",
    "        d+=(temp:= i.at(end[0]))\r\n",
    "        endpoint=i.end\r\n",
    "        btrack=i.end\r\n",
    "        if sym.symtype=='Valve ':\r\n",
    "            btrack= i.start\r\n",
    "    print(sym.symtype, endpoint)\r\n",
    "    ret=endpoint\r\n",
    "    while len(sym.neighbors) > 0:\r\n",
    "        neighbor=sym.neighbors.pop()\r\n",
    "        sym.dissoc(neighbor)\r\n",
    "        # print(sym.symtype, end, sym.neighbors)\r\n",
    "        ret=dfs(d, neighbor, endpoint)\r\n",
    "    return ret"
   ],
   "outputs": [],
   "metadata": {}
  },
  {
   "cell_type": "code",
   "execution_count": null,
   "source": [
    "symbols = copy.deepcopy(backup)\r\n",
    "theta = 0\r\n",
    "with schemdraw.Drawing() as d:\r\n",
    "    d.config(unit=2.0)\r\n",
    "    endpoint = (0, 0)\r\n",
    "    while len(symbols[0].neighbors)>0:\r\n",
    "        symbols[0].dissoc(symbols[0].neighbors.pop())\r\n",
    "    endpoint= dfs(d, symbols[1], endpoint)\r\n",
    "    d+=Wire('-|').at(btrack).to((-1,0))\r\n",
    "    d+=Line().to((0,0))"
   ],
   "outputs": [],
   "metadata": {}
  }
 ],
 "metadata": {
  "kernelspec": {
   "name": "python3",
   "display_name": "Python 3.8.10 64-bit (system)"
  },
  "language_info": {
   "codemirror_mode": {
    "name": "ipython",
    "version": 3
   },
   "file_extension": ".py",
   "mimetype": "text/x-python",
   "name": "python",
   "nbconvert_exporter": "python",
   "pygments_lexer": "ipython3",
   "version": "3.8.10"
  },
  "interpreter": {
   "hash": "e922dd073470bdcc017ae3abd31d6491d6ed7bf31c1d559806e5511bfea88b81"
  }
 },
 "nbformat": 4,
 "nbformat_minor": 5
}