{
 "cells": [
  {
   "cell_type": "code",
   "execution_count": 1,
   "source": [
    "import matplotlib.pyplot as plt\r\n",
    "import numpy as np\r\n",
    "from skimage.io import imread, imshow\r\n",
    "from skimage import data\r\n",
    "import skimage.measure\r\n",
    "from skimage.util import img_as_ubyte\r\n",
    "from skimage.filters.rank import entropy\r\n",
    "from skimage.morphology import disk\r\n",
    "from skimage.color import rgb2hsv, rgb2gray, rgb2yuv, rgba2rgb"
   ],
   "outputs": [],
   "metadata": {}
  },
  {
   "cell_type": "code",
   "execution_count": 2,
   "source": [
    "shawls = rgb2gray(rgba2rgb(imread('img.png')))\r\n",
    "plt.figure(num=None, figsize=(8, 6), dpi=80)\r\n",
    "imshow(shawls)"
   ],
   "outputs": [
    {
     "output_type": "stream",
     "name": "stderr",
     "text": [
      "C:\\Users\\Jason\\AppData\\Roaming\\Python\\Python38\\site-packages\\skimage\\io\\_plugins\\matplotlib_plugin.py:150: UserWarning: Low image data range; displaying image with stretched contrast.\n",
      "  lo, hi, cmap = _get_display_range(image)\n"
     ]
    },
    {
     "output_type": "execute_result",
     "data": {
      "text/plain": [
       "<matplotlib.image.AxesImage at 0x239711013a0>"
      ]
     },
     "metadata": {},
     "execution_count": 2
    },
    {
     "output_type": "display_data",
     "data": {
      "image/png": "[encoded data removed]",
      "text/plain": [
       "<Figure size 640x480 with 2 Axes>"
      ]
     },
     "metadata": {
      "needs_background": "light"
     }
    }
   ],
   "metadata": {}
  },
  {
   "cell_type": "code",
   "execution_count": 79,
   "source": [
    "skimage.measure.shannon_entropy(shawls)"
   ],
   "outputs": [
    {
     "output_type": "execute_result",
     "data": {
      "text/plain": [
       "0.09943138541543342"
      ]
     },
     "metadata": {},
     "execution_count": 79
    }
   ],
   "metadata": {}
  },
  {
   "cell_type": "code",
   "execution_count": 3,
   "source": [
    "entropy_image = entropy(shawls, disk(1))\r\n",
    "imshow(entropy_image, cmap = 'magma')"
   ],
   "outputs": [
    {
     "output_type": "stream",
     "name": "stderr",
     "text": [
      "C:\\Users\\Jason\\AppData\\Local\\Temp\\ipykernel_3156\\2315913936.py:1: UserWarning: Possible precision loss converting image of type float64 to uint8 as required by rank filters. Convert manually using skimage.util.img_as_ubyte to silence this warning.\n",
      "  entropy_image = entropy(shawls, disk(1))\n",
      "C:\\Users\\Jason\\AppData\\Roaming\\Python\\Python38\\site-packages\\skimage\\io\\_plugins\\matplotlib_plugin.py:150: UserWarning: Float image out of standard range; displaying image with stretched contrast.\n",
      "  lo, hi, cmap = _get_display_range(image)\n"
     ]
    },
    {
     "output_type": "execute_result",
     "data": {
      "text/plain": [
       "<matplotlib.image.AxesImage at 0x23971e1d1f0>"
      ]
     },
     "metadata": {},
     "execution_count": 3
    },
    {
     "output_type": "display_data",
     "data": {
      "image/png": "[encoded data removed]",
      "text/plain": [
       "<Figure size 432x288 with 2 Axes>"
      ]
     },
     "metadata": {
      "needs_background": "light"
     }
    }
   ],
   "metadata": {}
  },
  {
   "cell_type": "code",
   "execution_count": 9,
   "source": [
    "def threshold_checker(image):\r\n",
    "    thresholds =  np.arange(0.1,1.1,0.1)\r\n",
    "    # image_gray = rgb2gray(image)\r\n",
    "    entropy_image = entropy(image, disk(1))\r\n",
    "    scaled_entropy = entropy_image / entropy_image.max()  \r\n",
    "    fig, ax = plt.subplots(2, 5, figsize=(17, 10))\r\n",
    "    for n, ax in enumerate(ax.flatten()):\r\n",
    "        ax.set_title(f'Threshold  : {round(thresholds[n],2)}', \r\n",
    "                     fontsize = 16)\r\n",
    "        threshold = scaled_entropy > thresholds[n]\r\n",
    "        ax.imshow(threshold, cmap = 'gist_stern_r') ;\r\n",
    "        ax.axis('off')\r\n",
    "    fig.tight_layout()"
   ],
   "outputs": [],
   "metadata": {}
  },
  {
   "cell_type": "code",
   "execution_count": 8,
   "source": [
    "threshold_checker(shawls)"
   ],
   "outputs": [
    {
     "output_type": "error",
     "ename": "NameError",
     "evalue": "name 'image_gray' is not defined",
     "traceback": [
      "\u001b[1;31m---------------------------------------------------------------------------\u001b[0m",
      "\u001b[1;31mNameError\u001b[0m                                 Traceback (most recent call last)",
      "Input \u001b[1;32mIn [8]\u001b[0m, in \u001b[0;36m<cell line: 1>\u001b[1;34m()\u001b[0m\n\u001b[1;32m----> 1\u001b[0m \u001b[43mthreshold_checker\u001b[49m\u001b[43m(\u001b[49m\u001b[43mshawls\u001b[49m\u001b[43m)\u001b[49m\n",
      "Input \u001b[1;32mIn [7]\u001b[0m, in \u001b[0;36mthreshold_checker\u001b[1;34m(image)\u001b[0m\n\u001b[0;32m      2\u001b[0m thresholds \u001b[38;5;241m=\u001b[39m  np\u001b[38;5;241m.\u001b[39marange(\u001b[38;5;241m0.1\u001b[39m,\u001b[38;5;241m1.1\u001b[39m,\u001b[38;5;241m0.1\u001b[39m)\n\u001b[0;32m      3\u001b[0m \u001b[38;5;66;03m# image_gray = rgb2gray(image)\u001b[39;00m\n\u001b[1;32m----> 4\u001b[0m entropy_image \u001b[38;5;241m=\u001b[39m entropy(\u001b[43mimage_gray\u001b[49m, disk(\u001b[38;5;241m6\u001b[39m))\n\u001b[0;32m      5\u001b[0m scaled_entropy \u001b[38;5;241m=\u001b[39m entropy_image \u001b[38;5;241m/\u001b[39m entropy_image\u001b[38;5;241m.\u001b[39mmax()  \n\u001b[0;32m      6\u001b[0m fig, ax \u001b[38;5;241m=\u001b[39m plt\u001b[38;5;241m.\u001b[39msubplots(\u001b[38;5;241m2\u001b[39m, \u001b[38;5;241m5\u001b[39m, figsize\u001b[38;5;241m=\u001b[39m(\u001b[38;5;241m17\u001b[39m, \u001b[38;5;241m10\u001b[39m))\n",
      "\u001b[1;31mNameError\u001b[0m: name 'image_gray' is not defined"
     ]
    }
   ],
   "metadata": {}
  }
 ],
 "metadata": {
  "orig_nbformat": 4,
  "language_info": {
   "name": "python",
   "version": "3.8.10",
   "mimetype": "text/x-python",
   "codemirror_mode": {
    "name": "ipython",
    "version": 3
   },
   "pygments_lexer": "ipython3",
   "nbconvert_exporter": "python",
   "file_extension": ".py"
  },
  "kernelspec": {
   "name": "python3",
   "display_name": "Python 3.8.10 64-bit (system)"
  },
  "interpreter": {
   "hash": "e922dd073470bdcc017ae3abd31d6491d6ed7bf31c1d559806e5511bfea88b81"
  }
 },
 "nbformat": 4,
 "nbformat_minor": 2
}