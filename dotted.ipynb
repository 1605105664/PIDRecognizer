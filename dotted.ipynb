{
 "cells": [
  {
   "cell_type": "code",
   "execution_count": 1,
   "source": [
    "import cv2\r\n",
    "import numpy as np\r\n",
    "#method only works when text is large enough\r\n",
    "img=cv2.imread('dotted2.jpg')\r\n",
    "\r\n",
    "kernel1 = np.ones((3,5),np.uint8)\r\n",
    "kernel2 = np.ones((9,9),np.uint8)\r\n",
    "\r\n",
    "imgGray=cv2.cvtColor(img,cv2.COLOR_BGR2GRAY)\r\n",
    "imgBW=cv2.threshold(imgGray, 230, 255, cv2.THRESH_BINARY_INV)[1]\r\n",
    "\r\n",
    "img1=cv2.erode(imgBW, kernel1, iterations=1)\r\n",
    "img2=cv2.dilate(img1, kernel2, iterations=3)\r\n",
    "img3 = cv2.bitwise_and(imgBW,img2)\r\n",
    "img3= cv2.bitwise_not(img3)\r\n",
    "img4 = cv2.bitwise_and(imgBW,imgBW,mask=img3)\r\n",
    "imgLines= cv2.HoughLinesP(img4,15,np.pi/180,10, minLineLength = 440, maxLineGap = 1500)\r\n",
    "\r\n",
    "cv2.imshow('Final Image with dotted Lines detected', img4)\r\n",
    "cv2.waitKey(0)\r\n",
    "\r\n",
    "for i in range(len(imgLines)):\r\n",
    "    for x1,y1,x2,y2 in imgLines[i]:\r\n",
    "        cv2.line(img,(x1,y1),(x2,y2),(0,255,0),2)\r\n",
    "\r\n",
    "cv2.imshow('Final Image with dotted Lines detected', img)\r\n",
    "cv2.waitKey(0)"
   ],
   "outputs": [
    {
     "output_type": "execute_result",
     "data": {
      "text/plain": [
       "-1"
      ]
     },
     "metadata": {},
     "execution_count": 1
    }
   ],
   "metadata": {}
  },
  {
   "cell_type": "code",
   "execution_count": 6,
   "source": [
    "import cv2\r\n",
    "import numpy as np\r\n",
    "\r\n",
    "def filterLines(lines):\r\n",
    "    ret=[]\r\n",
    "    for i in lines:\r\n",
    "        x1, y1, x2, y2 = i[0]\r\n",
    "        flag=False\r\n",
    "        for j in ret:\r\n",
    "            dx1, dy1, dx2, dy2 = j[0]\r\n",
    "            if abs(x1-dx1)+abs(y1-dy1)+abs(x2-dx2)+abs(y2-dy2) < 50:\r\n",
    "                flag=True\r\n",
    "                break\r\n",
    "        if not flag:\r\n",
    "            ret.append(i)\r\n",
    "    return ret\r\n",
    "\r\n",
    "\r\n",
    "img = cv2.imread('dotted4.jpg')\r\n",
    "# cv2.imshow(\"Result Image\", img)\r\n",
    "# cv2.waitKey(0)\r\n",
    "# Convert the image to gray-scale\r\n",
    "gray = cv2.cvtColor(img, cv2.COLOR_BGR2GRAY)\r\n",
    "# Find the edges in the image using canny detector\r\n",
    "edges = cv2.Canny(gray, 50, 200)\r\n",
    "# Detect points that form a line\r\n",
    "lines = cv2.HoughLinesP(edges, 1, np.pi/180, 100, minLineLength=100, maxLineGap=80)\r\n",
    "# print(len(lines))\r\n",
    "print(len(filterLines(lines)))\r\n",
    "# Draw lines on the image\r\n",
    "for line in filterLines(lines):\r\n",
    "    x1, y1, x2, y2 = line[0]\r\n",
    "    temp=np.sum(img==255)\r\n",
    "    cv2.line(img, (x1, y1), (x2, y2), (255, 0, 0), 5)\r\n",
    "    bba=(abs(x1-x2)+abs(y1-y2))\r\n",
    "    print((np.sum(img==255)-temp)/bba)\r\n",
    "\r\n",
    "# Show result\r\n",
    "cv2.imshow(\"Result Image\", img)\r\n",
    "cv2.waitKey(0)\r\n"
   ],
   "outputs": [
    {
     "output_type": "stream",
     "name": "stdout",
     "text": [
      "10\n",
      "-1.536231884057971\n",
      "-3.6556603773584904\n",
      "-3.808\n",
      "-1.1518151815181519\n",
      "-3.988919667590028\n",
      "-4.916\n",
      "-1.5\n",
      "-7.666666666666667\n",
      "-3.59375\n",
      "-0.7933884297520661\n"
     ]
    },
    {
     "output_type": "execute_result",
     "data": {
      "text/plain": [
       "-1"
      ]
     },
     "metadata": {},
     "execution_count": 6
    }
   ],
   "metadata": {}
  },
  {
   "cell_type": "code",
   "execution_count": 103,
   "source": [
    "import cv2\r\n",
    "\r\n",
    "#Read gray image\r\n",
    "img = cv2.imread(\"dotted2.jpg\",0)\r\n",
    "\r\n",
    "#Create default parametrization LSD\r\n",
    "lsd = cv2.createLineSegmentDetector(0)\r\n",
    "\r\n",
    "# print(img)\r\n",
    "\r\n",
    "#Detect lines in the image\r\n",
    "lines = lsd.detect(img)[0] #Position 0 of the returned tuple are the detected lines\r\n",
    "print(len(lines))\r\n",
    "#Draw detected lines in the image\r\n",
    "drawn_img = lsd.drawSegments(img,lines)\r\n",
    "\r\n",
    "#Show image\r\n",
    "cv2.imshow(\"LSD\",drawn_img )\r\n",
    "cv2.waitKey(0)"
   ],
   "outputs": [
    {
     "output_type": "stream",
     "name": "stdout",
     "text": [
      "109\n"
     ]
    },
    {
     "output_type": "execute_result",
     "data": {
      "text/plain": [
       "-1"
      ]
     },
     "metadata": {},
     "execution_count": 103
    }
   ],
   "metadata": {}
  },
  {
   "cell_type": "code",
   "execution_count": 117,
   "source": [
    "import cv2 as cv\r\n",
    "src = cv.imread(\"dotted3.jpg\", cv.IMREAD_GRAYSCALE)\r\n",
    "dst = cv.Canny(src, 50, 200, None, 3)\r\n",
    "linesP = cv.HoughLinesP(dst, 1, np.pi / 180, 50, None, 50, 10)\r\n",
    "for i in range(len(imgLines)):\r\n",
    "    for x1,y1,x2,y2 in imgLines[i]:\r\n",
    "        cv2.line(src,(x1,y1),(x2,y2),(0,255,0),4)\r\n",
    "print(linesP)\r\n",
    "cv2.imshow('Final Image with dotted Lines detected', src)\r\n",
    "cv2.waitKey(0)"
   ],
   "outputs": [
    {
     "output_type": "stream",
     "name": "stdout",
     "text": [
      "[[[236  63 656  63]]\n",
      "\n",
      " [[234  58 657  58]]\n",
      "\n",
      " [[116 409 116  78]]\n",
      "\n",
      " [[121 411 121  76]]\n",
      "\n",
      " [[234 101 551 101]]\n",
      "\n",
      " [[234 105 545 105]]\n",
      "\n",
      " [[147 444 147 121]]\n",
      "\n",
      " [[146 133 146  17]]\n",
      "\n",
      " [[545 104 661 104]]]\n"
     ]
    },
    {
     "output_type": "execute_result",
     "data": {
      "text/plain": [
       "-1"
      ]
     },
     "metadata": {},
     "execution_count": 117
    }
   ],
   "metadata": {}
  }
 ],
 "metadata": {
  "orig_nbformat": 4,
  "language_info": {
   "name": "python",
   "version": "3.8.10",
   "mimetype": "text/x-python",
   "codemirror_mode": {
    "name": "ipython",
    "version": 3
   },
   "pygments_lexer": "ipython3",
   "nbconvert_exporter": "python",
   "file_extension": ".py"
  },
  "kernelspec": {
   "name": "python3",
   "display_name": "Python 3.8.10 64-bit (system)"
  },
  "interpreter": {
   "hash": "e922dd073470bdcc017ae3abd31d6491d6ed7bf31c1d559806e5511bfea88b81"
  }
 },
 "nbformat": 4,
 "nbformat_minor": 2
}