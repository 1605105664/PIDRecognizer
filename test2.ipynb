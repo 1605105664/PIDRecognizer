{
 "cells": [
  {
   "cell_type": "code",
   "execution_count": 20,
   "source": [
    "import pandas as pd\r\n",
    "import cv2 as cv\r\n",
    "import numpy as np\r\n",
    "from skimage.io import imread, imshow"
   ],
   "outputs": [],
   "metadata": {}
  },
  {
   "cell_type": "code",
   "execution_count": 60,
   "source": [
    "df=pd.read_csv(\"datapoints.csv\")\r\n",
    "ind=df.loc[df['cluster'] == 2].to_numpy()[:,:-1]\r\n",
    "ind=np.transpose(ind)\r\n",
    "img=np.zeros((np.max(ind[1])+1,np.max(ind[0])+1))\r\n",
    "ind=np.transpose(ind)\r\n",
    "img[ind]=1\r\n",
    "print(ind.shape)\r\n",
    "print(img.shape)\r\n",
    "imshow(img)\r\n",
    "# res = cv.matchTemplate(img,template,method)\r\n",
    "# min_val, max_val, min_loc, max_loc = cv.minMaxLoc(res)"
   ],
   "outputs": [
    {
     "output_type": "stream",
     "name": "stdout",
     "text": [
      "(19563, 2)\n",
      "(1749, 777)\n"
     ]
    },
    {
     "output_type": "execute_result",
     "data": {
      "text/plain": [
       "<matplotlib.image.AxesImage at 0x24f413fb250>"
      ]
     },
     "metadata": {},
     "execution_count": 60
    },
    {
     "output_type": "display_data",
     "data": {
      "image/png": "[encoded data removed]",
      "text/plain": [
       "<Figure size 432x288 with 1 Axes>"
      ]
     },
     "metadata": {
      "needs_background": "light"
     }
    }
   ],
   "metadata": {}
  }
 ],
 "metadata": {
  "orig_nbformat": 4,
  "language_info": {
   "name": "python",
   "version": "3.8.10",
   "mimetype": "text/x-python",
   "codemirror_mode": {
    "name": "ipython",
    "version": 3
   },
   "pygments_lexer": "ipython3",
   "nbconvert_exporter": "python",
   "file_extension": ".py"
  },
  "kernelspec": {
   "name": "python3",
   "display_name": "Python 3.8.10 64-bit (system)"
  },
  "interpreter": {
   "hash": "e922dd073470bdcc017ae3abd31d6491d6ed7bf31c1d559806e5511bfea88b81"
  }
 },
 "nbformat": 4,
 "nbformat_minor": 2
}